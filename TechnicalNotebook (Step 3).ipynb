{
 "cells": [
  {
   "cell_type": "markdown",
   "metadata": {},
   "source": [
    "### Project (Mod 1 Project - Flatiron Data Science Bootcamp, March , 2020 Washington, D.C.)"
   ]
  },
  {
   "cell_type": "code",
   "execution_count": 1,
   "metadata": {},
   "outputs": [],
   "source": [
    "import pandas as pd\n",
    "import numpy as np\n",
    "import statsmodels.api as sm\n",
    "\n",
    "from sklearn.linear_model import LinearRegression\n",
    "from sklearn.model_selection import cross_val_score, train_test_split\n",
    "\n",
    "import matplotlib.pyplot as plt\n",
    "import seaborn as sns\n",
    "from sklearn.model_selection import train_test_split\n",
    "from sklearn.linear_model import LinearRegression\n",
    "from sklearn.preprocessing import StandardScaler\n",
    "\n",
    "%matplotlib inline\n",
    "pd.set_option('display.max_rows', 500)\n",
    "pd.set_option('display.max_columns', 500)\n",
    "pd.set_option('display.width', 1000)"
   ]
  },
  {
   "cell_type": "code",
   "execution_count": 2,
   "metadata": {},
   "outputs": [],
   "source": [
    "df = pd.read_csv('imdb_final.csv')"
   ]
  },
  {
   "cell_type": "code",
   "execution_count": 3,
   "metadata": {},
   "outputs": [
    {
     "data": {
      "text/html": [
       "<div>\n",
       "<style scoped>\n",
       "    .dataframe tbody tr th:only-of-type {\n",
       "        vertical-align: middle;\n",
       "    }\n",
       "\n",
       "    .dataframe tbody tr th {\n",
       "        vertical-align: top;\n",
       "    }\n",
       "\n",
       "    .dataframe thead th {\n",
       "        text-align: right;\n",
       "    }\n",
       "</style>\n",
       "<table border=\"1\" class=\"dataframe\">\n",
       "  <thead>\n",
       "    <tr style=\"text-align: right;\">\n",
       "      <th></th>\n",
       "      <th>Unnamed: 0</th>\n",
       "      <th>popularity</th>\n",
       "      <th>vote_average</th>\n",
       "      <th>vote_count</th>\n",
       "      <th>production_budget</th>\n",
       "      <th>worldwide_gross</th>\n",
       "      <th>profit</th>\n",
       "      <th>genre</th>\n",
       "    </tr>\n",
       "  </thead>\n",
       "  <tbody>\n",
       "    <tr>\n",
       "      <td>0</td>\n",
       "      <td>0</td>\n",
       "      <td>6.099</td>\n",
       "      <td>3.3</td>\n",
       "      <td>102</td>\n",
       "      <td>1500000</td>\n",
       "      <td>0</td>\n",
       "      <td>-1500000</td>\n",
       "      <td>crime</td>\n",
       "    </tr>\n",
       "    <tr>\n",
       "      <td>1</td>\n",
       "      <td>1</td>\n",
       "      <td>17.892</td>\n",
       "      <td>6.9</td>\n",
       "      <td>4629</td>\n",
       "      <td>5000000</td>\n",
       "      <td>108286422</td>\n",
       "      <td>103286422</td>\n",
       "      <td>drama</td>\n",
       "    </tr>\n",
       "    <tr>\n",
       "      <td>2</td>\n",
       "      <td>2</td>\n",
       "      <td>0.955</td>\n",
       "      <td>5.4</td>\n",
       "      <td>7</td>\n",
       "      <td>12000000</td>\n",
       "      <td>14616</td>\n",
       "      <td>-11985384</td>\n",
       "      <td>drama</td>\n",
       "    </tr>\n",
       "    <tr>\n",
       "      <td>3</td>\n",
       "      <td>3</td>\n",
       "      <td>13.183</td>\n",
       "      <td>5.6</td>\n",
       "      <td>1312</td>\n",
       "      <td>35000000</td>\n",
       "      <td>71118378</td>\n",
       "      <td>36118378</td>\n",
       "      <td>action</td>\n",
       "    </tr>\n",
       "    <tr>\n",
       "      <td>4</td>\n",
       "      <td>4</td>\n",
       "      <td>16.493</td>\n",
       "      <td>7.9</td>\n",
       "      <td>6631</td>\n",
       "      <td>20000000</td>\n",
       "      <td>181025343</td>\n",
       "      <td>161025343</td>\n",
       "      <td>biography</td>\n",
       "    </tr>\n",
       "  </tbody>\n",
       "</table>\n",
       "</div>"
      ],
      "text/plain": [
       "   Unnamed: 0  popularity  vote_average  vote_count  production_budget  worldwide_gross     profit      genre\n",
       "0           0       6.099           3.3         102            1500000                0   -1500000      crime\n",
       "1           1      17.892           6.9        4629            5000000        108286422  103286422      drama\n",
       "2           2       0.955           5.4           7           12000000            14616  -11985384      drama\n",
       "3           3      13.183           5.6        1312           35000000         71118378   36118378     action\n",
       "4           4      16.493           7.9        6631           20000000        181025343  161025343  biography"
      ]
     },
     "execution_count": 3,
     "metadata": {},
     "output_type": "execute_result"
    }
   ],
   "source": [
    "df.head()"
   ]
  },
  {
   "cell_type": "code",
   "execution_count": 4,
   "metadata": {},
   "outputs": [],
   "source": [
    "data = df.drop(columns = ['Unnamed: 0'])"
   ]
  },
  {
   "cell_type": "code",
   "execution_count": 5,
   "metadata": {
    "scrolled": false
   },
   "outputs": [
    {
     "data": {
      "text/html": [
       "<div>\n",
       "<style scoped>\n",
       "    .dataframe tbody tr th:only-of-type {\n",
       "        vertical-align: middle;\n",
       "    }\n",
       "\n",
       "    .dataframe tbody tr th {\n",
       "        vertical-align: top;\n",
       "    }\n",
       "\n",
       "    .dataframe thead th {\n",
       "        text-align: right;\n",
       "    }\n",
       "</style>\n",
       "<table border=\"1\" class=\"dataframe\">\n",
       "  <thead>\n",
       "    <tr style=\"text-align: right;\">\n",
       "      <th></th>\n",
       "      <th>popularity</th>\n",
       "      <th>vote_average</th>\n",
       "      <th>vote_count</th>\n",
       "      <th>production_budget</th>\n",
       "      <th>worldwide_gross</th>\n",
       "      <th>profit</th>\n",
       "      <th>genre</th>\n",
       "    </tr>\n",
       "  </thead>\n",
       "  <tbody>\n",
       "    <tr>\n",
       "      <td>0</td>\n",
       "      <td>6.099</td>\n",
       "      <td>3.3</td>\n",
       "      <td>102</td>\n",
       "      <td>1500000</td>\n",
       "      <td>0</td>\n",
       "      <td>-1500000</td>\n",
       "      <td>crime</td>\n",
       "    </tr>\n",
       "    <tr>\n",
       "      <td>1</td>\n",
       "      <td>17.892</td>\n",
       "      <td>6.9</td>\n",
       "      <td>4629</td>\n",
       "      <td>5000000</td>\n",
       "      <td>108286422</td>\n",
       "      <td>103286422</td>\n",
       "      <td>drama</td>\n",
       "    </tr>\n",
       "    <tr>\n",
       "      <td>2</td>\n",
       "      <td>0.955</td>\n",
       "      <td>5.4</td>\n",
       "      <td>7</td>\n",
       "      <td>12000000</td>\n",
       "      <td>14616</td>\n",
       "      <td>-11985384</td>\n",
       "      <td>drama</td>\n",
       "    </tr>\n",
       "    <tr>\n",
       "      <td>3</td>\n",
       "      <td>13.183</td>\n",
       "      <td>5.6</td>\n",
       "      <td>1312</td>\n",
       "      <td>35000000</td>\n",
       "      <td>71118378</td>\n",
       "      <td>36118378</td>\n",
       "      <td>action</td>\n",
       "    </tr>\n",
       "    <tr>\n",
       "      <td>4</td>\n",
       "      <td>16.493</td>\n",
       "      <td>7.9</td>\n",
       "      <td>6631</td>\n",
       "      <td>20000000</td>\n",
       "      <td>181025343</td>\n",
       "      <td>161025343</td>\n",
       "      <td>biography</td>\n",
       "    </tr>\n",
       "  </tbody>\n",
       "</table>\n",
       "</div>"
      ],
      "text/plain": [
       "   popularity  vote_average  vote_count  production_budget  worldwide_gross     profit      genre\n",
       "0       6.099           3.3         102            1500000                0   -1500000      crime\n",
       "1      17.892           6.9        4629            5000000        108286422  103286422      drama\n",
       "2       0.955           5.4           7           12000000            14616  -11985384      drama\n",
       "3      13.183           5.6        1312           35000000         71118378   36118378     action\n",
       "4      16.493           7.9        6631           20000000        181025343  161025343  biography"
      ]
     },
     "execution_count": 5,
     "metadata": {},
     "output_type": "execute_result"
    }
   ],
   "source": [
    "data.head()"
   ]
  },
  {
   "cell_type": "code",
   "execution_count": 6,
   "metadata": {},
   "outputs": [
    {
     "name": "stdout",
     "output_type": "stream",
     "text": [
      "<class 'pandas.core.frame.DataFrame'>\n",
      "RangeIndex: 1834 entries, 0 to 1833\n",
      "Data columns (total 7 columns):\n",
      "popularity           1834 non-null float64\n",
      "vote_average         1834 non-null float64\n",
      "vote_count           1834 non-null int64\n",
      "production_budget    1834 non-null int64\n",
      "worldwide_gross      1834 non-null int64\n",
      "profit               1834 non-null int64\n",
      "genre                1834 non-null object\n",
      "dtypes: float64(2), int64(4), object(1)\n",
      "memory usage: 100.4+ KB\n"
     ]
    }
   ],
   "source": [
    "data.info()"
   ]
  },
  {
   "cell_type": "code",
   "execution_count": 7,
   "metadata": {
    "scrolled": false
   },
   "outputs": [
    {
     "data": {
      "text/html": [
       "<div>\n",
       "<style scoped>\n",
       "    .dataframe tbody tr th:only-of-type {\n",
       "        vertical-align: middle;\n",
       "    }\n",
       "\n",
       "    .dataframe tbody tr th {\n",
       "        vertical-align: top;\n",
       "    }\n",
       "\n",
       "    .dataframe thead th {\n",
       "        text-align: right;\n",
       "    }\n",
       "</style>\n",
       "<table border=\"1\" class=\"dataframe\">\n",
       "  <thead>\n",
       "    <tr style=\"text-align: right;\">\n",
       "      <th></th>\n",
       "      <th>count</th>\n",
       "      <th>mean</th>\n",
       "      <th>std</th>\n",
       "      <th>min</th>\n",
       "      <th>25%</th>\n",
       "      <th>50%</th>\n",
       "      <th>75%</th>\n",
       "      <th>max</th>\n",
       "    </tr>\n",
       "  </thead>\n",
       "  <tbody>\n",
       "    <tr>\n",
       "      <td>popularity</td>\n",
       "      <td>1834.0</td>\n",
       "      <td>1.093118e+01</td>\n",
       "      <td>8.180437e+00</td>\n",
       "      <td>0.6</td>\n",
       "      <td>6.110250e+00</td>\n",
       "      <td>9.592500e+00</td>\n",
       "      <td>1.444975e+01</td>\n",
       "      <td>8.077300e+01</td>\n",
       "    </tr>\n",
       "    <tr>\n",
       "      <td>vote_average</td>\n",
       "      <td>1834.0</td>\n",
       "      <td>6.176172e+00</td>\n",
       "      <td>1.096821e+00</td>\n",
       "      <td>0.0</td>\n",
       "      <td>5.600000e+00</td>\n",
       "      <td>6.200000e+00</td>\n",
       "      <td>6.900000e+00</td>\n",
       "      <td>1.000000e+01</td>\n",
       "    </tr>\n",
       "    <tr>\n",
       "      <td>vote_count</td>\n",
       "      <td>1834.0</td>\n",
       "      <td>1.704709e+03</td>\n",
       "      <td>2.689767e+03</td>\n",
       "      <td>1.0</td>\n",
       "      <td>8.525000e+01</td>\n",
       "      <td>6.535000e+02</td>\n",
       "      <td>2.092250e+03</td>\n",
       "      <td>2.218600e+04</td>\n",
       "    </tr>\n",
       "    <tr>\n",
       "      <td>production_budget</td>\n",
       "      <td>1834.0</td>\n",
       "      <td>3.834575e+07</td>\n",
       "      <td>5.200167e+07</td>\n",
       "      <td>9000.0</td>\n",
       "      <td>5.000000e+06</td>\n",
       "      <td>2.000000e+07</td>\n",
       "      <td>4.600000e+07</td>\n",
       "      <td>4.250000e+08</td>\n",
       "    </tr>\n",
       "    <tr>\n",
       "      <td>worldwide_gross</td>\n",
       "      <td>1834.0</td>\n",
       "      <td>1.190712e+08</td>\n",
       "      <td>2.226756e+08</td>\n",
       "      <td>0.0</td>\n",
       "      <td>3.287706e+06</td>\n",
       "      <td>3.668101e+07</td>\n",
       "      <td>1.227451e+08</td>\n",
       "      <td>2.776345e+09</td>\n",
       "    </tr>\n",
       "    <tr>\n",
       "      <td>profit</td>\n",
       "      <td>1834.0</td>\n",
       "      <td>8.072547e+07</td>\n",
       "      <td>1.836923e+08</td>\n",
       "      <td>-110450242.0</td>\n",
       "      <td>-1.688551e+06</td>\n",
       "      <td>1.364081e+07</td>\n",
       "      <td>7.689673e+07</td>\n",
       "      <td>2.351345e+09</td>\n",
       "    </tr>\n",
       "  </tbody>\n",
       "</table>\n",
       "</div>"
      ],
      "text/plain": [
       "                    count          mean           std          min           25%           50%           75%           max\n",
       "popularity         1834.0  1.093118e+01  8.180437e+00          0.6  6.110250e+00  9.592500e+00  1.444975e+01  8.077300e+01\n",
       "vote_average       1834.0  6.176172e+00  1.096821e+00          0.0  5.600000e+00  6.200000e+00  6.900000e+00  1.000000e+01\n",
       "vote_count         1834.0  1.704709e+03  2.689767e+03          1.0  8.525000e+01  6.535000e+02  2.092250e+03  2.218600e+04\n",
       "production_budget  1834.0  3.834575e+07  5.200167e+07       9000.0  5.000000e+06  2.000000e+07  4.600000e+07  4.250000e+08\n",
       "worldwide_gross    1834.0  1.190712e+08  2.226756e+08          0.0  3.287706e+06  3.668101e+07  1.227451e+08  2.776345e+09\n",
       "profit             1834.0  8.072547e+07  1.836923e+08 -110450242.0 -1.688551e+06  1.364081e+07  7.689673e+07  2.351345e+09"
      ]
     },
     "execution_count": 7,
     "metadata": {},
     "output_type": "execute_result"
    }
   ],
   "source": [
    "data.describe().T"
   ]
  },
  {
   "cell_type": "code",
   "execution_count": 8,
   "metadata": {},
   "outputs": [
    {
     "data": {
      "text/plain": [
       "(1834, 7)"
      ]
     },
     "execution_count": 8,
     "metadata": {},
     "output_type": "execute_result"
    }
   ],
   "source": [
    "data.shape"
   ]
  },
  {
   "cell_type": "code",
   "execution_count": 9,
   "metadata": {},
   "outputs": [
    {
     "data": {
      "text/plain": [
       "popularity           0\n",
       "vote_average         0\n",
       "vote_count           0\n",
       "production_budget    0\n",
       "worldwide_gross      0\n",
       "profit               0\n",
       "genre                0\n",
       "dtype: int64"
      ]
     },
     "execution_count": 9,
     "metadata": {},
     "output_type": "execute_result"
    }
   ],
   "source": [
    "# Check for missing values by column\n",
    "data.isna().sum()"
   ]
  },
  {
   "cell_type": "markdown",
   "metadata": {},
   "source": [
    "## Step 1 Train/test Split"
   ]
  },
  {
   "cell_type": "markdown",
   "metadata": {},
   "source": [
    "### Target is profit"
   ]
  },
  {
   "cell_type": "code",
   "execution_count": 10,
   "metadata": {},
   "outputs": [],
   "source": [
    "X = data.drop(columns =['profit'])\n",
    "y = data['profit']"
   ]
  },
  {
   "cell_type": "code",
   "execution_count": 11,
   "metadata": {},
   "outputs": [],
   "source": [
    "# split data into test and train\n",
    "X_train, X_test, y_train, y_test = train_test_split(X,y, random_state = 42, test_size = .20)"
   ]
  },
  {
   "cell_type": "code",
   "execution_count": 12,
   "metadata": {},
   "outputs": [
    {
     "data": {
      "text/plain": [
       "((1467, 6), (367, 6), (1467,), (367,))"
      ]
     },
     "execution_count": 12,
     "metadata": {},
     "output_type": "execute_result"
    }
   ],
   "source": [
    "# get the shapes\n",
    "X_train.shape, X_test.shape, y_train.shape, y_test.shape"
   ]
  },
  {
   "cell_type": "markdown",
   "metadata": {},
   "source": [
    "### Step 2- Exploratory Data Analysis"
   ]
  },
  {
   "cell_type": "markdown",
   "metadata": {},
   "source": [
    "checking missing valuses etc. our data is already clean "
   ]
  },
  {
   "cell_type": "code",
   "execution_count": 13,
   "metadata": {},
   "outputs": [
    {
     "data": {
      "text/plain": [
       "<seaborn.axisgrid.PairGrid at 0x1c1e04f510>"
      ]
     },
     "execution_count": 13,
     "metadata": {},
     "output_type": "execute_result"
    },
    {
     "data": {
      "image/png": "[encoded data removed]",
      "text/plain": [
       "<Figure size 900x900 with 30 Axes>"
      ]
     },
     "metadata": {
      "needs_background": "light"
     },
     "output_type": "display_data"
    }
   ],
   "source": [
    "#create scatterplot matrix\n",
    "sns.pairplot(X_train)"
   ]
  },
  {
   "cell_type": "markdown",
   "metadata": {},
   "source": [
    "### Next let's look at the distribution of our variables"
   ]
  },
  {
   "cell_type": "code",
   "execution_count": 14,
   "metadata": {},
   "outputs": [
    {
     "data": {
      "text/plain": [
       "<matplotlib.axes._subplots.AxesSubplot at 0x1c1f3e01d0>"
      ]
     },
     "execution_count": 14,
     "metadata": {},
     "output_type": "execute_result"
    },
    {
     "data": {
      "image/png": "[encoded data removed]",
      "text/plain": [
       "<Figure size 432x288 with 1 Axes>"
      ]
     },
     "metadata": {
      "needs_background": "light"
     },
     "output_type": "display_data"
    }
   ],
   "source": [
    "#histogram of y_train\n",
    "y_train.plot(kind='hist')"
   ]
  },
  {
   "cell_type": "markdown",
   "metadata": {},
   "source": [
    "### Do we have any categorical variables we need to encode?"
   ]
  },
  {
   "cell_type": "markdown",
   "metadata": {},
   "source": [
    "## Step 3: Dummy variable."
   ]
  },
  {
   "cell_type": "code",
   "execution_count": 15,
   "metadata": {},
   "outputs": [],
   "source": [
    "dummies=pd.get_dummies(X_train['genre'], drop_first=True)\n",
    "X_train = pd.concat([dummies, X_train], axis=1)\n",
    "X_train = X_train.drop(columns=['genre'])"
   ]
  },
  {
   "cell_type": "code",
   "execution_count": 16,
   "metadata": {},
   "outputs": [
    {
     "data": {
      "text/html": [
       "<div>\n",
       "<style scoped>\n",
       "    .dataframe tbody tr th:only-of-type {\n",
       "        vertical-align: middle;\n",
       "    }\n",
       "\n",
       "    .dataframe tbody tr th {\n",
       "        vertical-align: top;\n",
       "    }\n",
       "\n",
       "    .dataframe thead th {\n",
       "        text-align: right;\n",
       "    }\n",
       "</style>\n",
       "<table border=\"1\" class=\"dataframe\">\n",
       "  <thead>\n",
       "    <tr style=\"text-align: right;\">\n",
       "      <th></th>\n",
       "      <th>adventure</th>\n",
       "      <th>animation</th>\n",
       "      <th>biography</th>\n",
       "      <th>comedy</th>\n",
       "      <th>crime</th>\n",
       "      <th>documentary</th>\n",
       "      <th>drama</th>\n",
       "      <th>family</th>\n",
       "      <th>fantasy</th>\n",
       "      <th>horror</th>\n",
       "      <th>music</th>\n",
       "      <th>musical</th>\n",
       "      <th>mystery</th>\n",
       "      <th>romance</th>\n",
       "      <th>sci-fi</th>\n",
       "      <th>sport</th>\n",
       "      <th>thriller</th>\n",
       "      <th>western</th>\n",
       "      <th>popularity</th>\n",
       "      <th>vote_average</th>\n",
       "      <th>vote_count</th>\n",
       "      <th>production_budget</th>\n",
       "      <th>worldwide_gross</th>\n",
       "    </tr>\n",
       "  </thead>\n",
       "  <tbody>\n",
       "    <tr>\n",
       "      <td>383</td>\n",
       "      <td>1</td>\n",
       "      <td>0</td>\n",
       "      <td>0</td>\n",
       "      <td>0</td>\n",
       "      <td>0</td>\n",
       "      <td>0</td>\n",
       "      <td>0</td>\n",
       "      <td>0</td>\n",
       "      <td>0</td>\n",
       "      <td>0</td>\n",
       "      <td>0</td>\n",
       "      <td>0</td>\n",
       "      <td>0</td>\n",
       "      <td>0</td>\n",
       "      <td>0</td>\n",
       "      <td>0</td>\n",
       "      <td>0</td>\n",
       "      <td>0</td>\n",
       "      <td>16.407</td>\n",
       "      <td>6.3</td>\n",
       "      <td>4106</td>\n",
       "      <td>75000000</td>\n",
       "      <td>1034727750</td>\n",
       "    </tr>\n",
       "    <tr>\n",
       "      <td>408</td>\n",
       "      <td>0</td>\n",
       "      <td>0</td>\n",
       "      <td>0</td>\n",
       "      <td>1</td>\n",
       "      <td>0</td>\n",
       "      <td>0</td>\n",
       "      <td>0</td>\n",
       "      <td>0</td>\n",
       "      <td>0</td>\n",
       "      <td>0</td>\n",
       "      <td>0</td>\n",
       "      <td>0</td>\n",
       "      <td>0</td>\n",
       "      <td>0</td>\n",
       "      <td>0</td>\n",
       "      <td>0</td>\n",
       "      <td>0</td>\n",
       "      <td>0</td>\n",
       "      <td>9.246</td>\n",
       "      <td>7.2</td>\n",
       "      <td>954</td>\n",
       "      <td>7000000</td>\n",
       "      <td>18190831</td>\n",
       "    </tr>\n",
       "    <tr>\n",
       "      <td>1677</td>\n",
       "      <td>0</td>\n",
       "      <td>0</td>\n",
       "      <td>0</td>\n",
       "      <td>1</td>\n",
       "      <td>0</td>\n",
       "      <td>0</td>\n",
       "      <td>0</td>\n",
       "      <td>0</td>\n",
       "      <td>0</td>\n",
       "      <td>0</td>\n",
       "      <td>0</td>\n",
       "      <td>0</td>\n",
       "      <td>0</td>\n",
       "      <td>0</td>\n",
       "      <td>0</td>\n",
       "      <td>0</td>\n",
       "      <td>0</td>\n",
       "      <td>0</td>\n",
       "      <td>11.241</td>\n",
       "      <td>6.3</td>\n",
       "      <td>398</td>\n",
       "      <td>5000000</td>\n",
       "      <td>3187302</td>\n",
       "    </tr>\n",
       "    <tr>\n",
       "      <td>1504</td>\n",
       "      <td>0</td>\n",
       "      <td>0</td>\n",
       "      <td>0</td>\n",
       "      <td>0</td>\n",
       "      <td>0</td>\n",
       "      <td>0</td>\n",
       "      <td>0</td>\n",
       "      <td>0</td>\n",
       "      <td>0</td>\n",
       "      <td>0</td>\n",
       "      <td>0</td>\n",
       "      <td>0</td>\n",
       "      <td>0</td>\n",
       "      <td>0</td>\n",
       "      <td>0</td>\n",
       "      <td>0</td>\n",
       "      <td>0</td>\n",
       "      <td>0</td>\n",
       "      <td>19.352</td>\n",
       "      <td>7.2</td>\n",
       "      <td>2882</td>\n",
       "      <td>80000000</td>\n",
       "      <td>310660018</td>\n",
       "    </tr>\n",
       "    <tr>\n",
       "      <td>593</td>\n",
       "      <td>0</td>\n",
       "      <td>0</td>\n",
       "      <td>0</td>\n",
       "      <td>1</td>\n",
       "      <td>0</td>\n",
       "      <td>0</td>\n",
       "      <td>0</td>\n",
       "      <td>0</td>\n",
       "      <td>0</td>\n",
       "      <td>0</td>\n",
       "      <td>0</td>\n",
       "      <td>0</td>\n",
       "      <td>0</td>\n",
       "      <td>0</td>\n",
       "      <td>0</td>\n",
       "      <td>0</td>\n",
       "      <td>0</td>\n",
       "      <td>0</td>\n",
       "      <td>12.312</td>\n",
       "      <td>5.9</td>\n",
       "      <td>2328</td>\n",
       "      <td>22000000</td>\n",
       "      <td>64160680</td>\n",
       "    </tr>\n",
       "  </tbody>\n",
       "</table>\n",
       "</div>"
      ],
      "text/plain": [
       "      adventure  animation  biography  comedy  crime  documentary  drama  family  fantasy  horror  music  musical  mystery  romance  sci-fi  sport  thriller  western  popularity  vote_average  vote_count  production_budget  worldwide_gross\n",
       "383           1          0          0       0      0            0      0       0        0       0      0        0        0        0       0      0         0        0      16.407           6.3        4106           75000000       1034727750\n",
       "408           0          0          0       1      0            0      0       0        0       0      0        0        0        0       0      0         0        0       9.246           7.2         954            7000000         18190831\n",
       "1677          0          0          0       1      0            0      0       0        0       0      0        0        0        0       0      0         0        0      11.241           6.3         398            5000000          3187302\n",
       "1504          0          0          0       0      0            0      0       0        0       0      0        0        0        0       0      0         0        0      19.352           7.2        2882           80000000        310660018\n",
       "593           0          0          0       1      0            0      0       0        0       0      0        0        0        0       0      0         0        0      12.312           5.9        2328           22000000         64160680"
      ]
     },
     "execution_count": 16,
     "metadata": {},
     "output_type": "execute_result"
    }
   ],
   "source": [
    "X_train.head()"
   ]
  },
  {
   "cell_type": "code",
   "execution_count": 17,
   "metadata": {},
   "outputs": [
    {
     "data": {
      "text/html": [
       "<div>\n",
       "<style scoped>\n",
       "    .dataframe tbody tr th:only-of-type {\n",
       "        vertical-align: middle;\n",
       "    }\n",
       "\n",
       "    .dataframe tbody tr th {\n",
       "        vertical-align: top;\n",
       "    }\n",
       "\n",
       "    .dataframe thead th {\n",
       "        text-align: right;\n",
       "    }\n",
       "</style>\n",
       "<table border=\"1\" class=\"dataframe\">\n",
       "  <thead>\n",
       "    <tr style=\"text-align: right;\">\n",
       "      <th></th>\n",
       "      <th>adventure</th>\n",
       "      <th>animation</th>\n",
       "      <th>biography</th>\n",
       "      <th>comedy</th>\n",
       "      <th>crime</th>\n",
       "      <th>documentary</th>\n",
       "      <th>drama</th>\n",
       "      <th>family</th>\n",
       "      <th>fantasy</th>\n",
       "      <th>horror</th>\n",
       "      <th>music</th>\n",
       "      <th>musical</th>\n",
       "      <th>mystery</th>\n",
       "      <th>romance</th>\n",
       "      <th>sci-fi</th>\n",
       "      <th>sport</th>\n",
       "      <th>thriller</th>\n",
       "      <th>western</th>\n",
       "      <th>popularity</th>\n",
       "      <th>vote_average</th>\n",
       "      <th>vote_count</th>\n",
       "      <th>production_budget</th>\n",
       "      <th>worldwide_gross</th>\n",
       "    </tr>\n",
       "  </thead>\n",
       "  <tbody>\n",
       "    <tr>\n",
       "      <td>383</td>\n",
       "      <td>1</td>\n",
       "      <td>0</td>\n",
       "      <td>0</td>\n",
       "      <td>0</td>\n",
       "      <td>0</td>\n",
       "      <td>0</td>\n",
       "      <td>0</td>\n",
       "      <td>0</td>\n",
       "      <td>0</td>\n",
       "      <td>0</td>\n",
       "      <td>0</td>\n",
       "      <td>0</td>\n",
       "      <td>0</td>\n",
       "      <td>0</td>\n",
       "      <td>0</td>\n",
       "      <td>0</td>\n",
       "      <td>0</td>\n",
       "      <td>0</td>\n",
       "      <td>0.672582</td>\n",
       "      <td>0.100561</td>\n",
       "      <td>0.924956</td>\n",
       "      <td>0.695602</td>\n",
       "      <td>4.106879</td>\n",
       "    </tr>\n",
       "    <tr>\n",
       "      <td>408</td>\n",
       "      <td>0</td>\n",
       "      <td>0</td>\n",
       "      <td>0</td>\n",
       "      <td>1</td>\n",
       "      <td>0</td>\n",
       "      <td>0</td>\n",
       "      <td>0</td>\n",
       "      <td>0</td>\n",
       "      <td>0</td>\n",
       "      <td>0</td>\n",
       "      <td>0</td>\n",
       "      <td>0</td>\n",
       "      <td>0</td>\n",
       "      <td>0</td>\n",
       "      <td>0</td>\n",
       "      <td>0</td>\n",
       "      <td>0</td>\n",
       "      <td>0</td>\n",
       "      <td>-0.219815</td>\n",
       "      <td>0.938229</td>\n",
       "      <td>-0.282357</td>\n",
       "      <td>-0.607830</td>\n",
       "      <td>-0.451063</td>\n",
       "    </tr>\n",
       "    <tr>\n",
       "      <td>1677</td>\n",
       "      <td>0</td>\n",
       "      <td>0</td>\n",
       "      <td>0</td>\n",
       "      <td>1</td>\n",
       "      <td>0</td>\n",
       "      <td>0</td>\n",
       "      <td>0</td>\n",
       "      <td>0</td>\n",
       "      <td>0</td>\n",
       "      <td>0</td>\n",
       "      <td>0</td>\n",
       "      <td>0</td>\n",
       "      <td>0</td>\n",
       "      <td>0</td>\n",
       "      <td>0</td>\n",
       "      <td>0</td>\n",
       "      <td>0</td>\n",
       "      <td>0</td>\n",
       "      <td>0.028800</td>\n",
       "      <td>0.100561</td>\n",
       "      <td>-0.495322</td>\n",
       "      <td>-0.646166</td>\n",
       "      <td>-0.518336</td>\n",
       "    </tr>\n",
       "    <tr>\n",
       "      <td>1504</td>\n",
       "      <td>0</td>\n",
       "      <td>0</td>\n",
       "      <td>0</td>\n",
       "      <td>0</td>\n",
       "      <td>0</td>\n",
       "      <td>0</td>\n",
       "      <td>0</td>\n",
       "      <td>0</td>\n",
       "      <td>0</td>\n",
       "      <td>0</td>\n",
       "      <td>0</td>\n",
       "      <td>0</td>\n",
       "      <td>0</td>\n",
       "      <td>0</td>\n",
       "      <td>0</td>\n",
       "      <td>0</td>\n",
       "      <td>0</td>\n",
       "      <td>0</td>\n",
       "      <td>1.039585</td>\n",
       "      <td>0.938229</td>\n",
       "      <td>0.456126</td>\n",
       "      <td>0.791443</td>\n",
       "      <td>0.860308</td>\n",
       "    </tr>\n",
       "    <tr>\n",
       "      <td>593</td>\n",
       "      <td>0</td>\n",
       "      <td>0</td>\n",
       "      <td>0</td>\n",
       "      <td>1</td>\n",
       "      <td>0</td>\n",
       "      <td>0</td>\n",
       "      <td>0</td>\n",
       "      <td>0</td>\n",
       "      <td>0</td>\n",
       "      <td>0</td>\n",
       "      <td>0</td>\n",
       "      <td>0</td>\n",
       "      <td>0</td>\n",
       "      <td>0</td>\n",
       "      <td>0</td>\n",
       "      <td>0</td>\n",
       "      <td>0</td>\n",
       "      <td>0</td>\n",
       "      <td>0.162267</td>\n",
       "      <td>-0.271736</td>\n",
       "      <td>0.243927</td>\n",
       "      <td>-0.320308</td>\n",
       "      <td>-0.244944</td>\n",
       "    </tr>\n",
       "    <tr>\n",
       "      <td>...</td>\n",
       "      <td>...</td>\n",
       "      <td>...</td>\n",
       "      <td>...</td>\n",
       "      <td>...</td>\n",
       "      <td>...</td>\n",
       "      <td>...</td>\n",
       "      <td>...</td>\n",
       "      <td>...</td>\n",
       "      <td>...</td>\n",
       "      <td>...</td>\n",
       "      <td>...</td>\n",
       "      <td>...</td>\n",
       "      <td>...</td>\n",
       "      <td>...</td>\n",
       "      <td>...</td>\n",
       "      <td>...</td>\n",
       "      <td>...</td>\n",
       "      <td>...</td>\n",
       "      <td>...</td>\n",
       "      <td>...</td>\n",
       "      <td>...</td>\n",
       "      <td>...</td>\n",
       "      <td>...</td>\n",
       "    </tr>\n",
       "    <tr>\n",
       "      <td>1130</td>\n",
       "      <td>0</td>\n",
       "      <td>0</td>\n",
       "      <td>0</td>\n",
       "      <td>1</td>\n",
       "      <td>0</td>\n",
       "      <td>0</td>\n",
       "      <td>0</td>\n",
       "      <td>0</td>\n",
       "      <td>0</td>\n",
       "      <td>0</td>\n",
       "      <td>0</td>\n",
       "      <td>0</td>\n",
       "      <td>0</td>\n",
       "      <td>0</td>\n",
       "      <td>0</td>\n",
       "      <td>0</td>\n",
       "      <td>0</td>\n",
       "      <td>0</td>\n",
       "      <td>-0.371351</td>\n",
       "      <td>1.124377</td>\n",
       "      <td>-0.590696</td>\n",
       "      <td>-0.646166</td>\n",
       "      <td>-0.530084</td>\n",
       "    </tr>\n",
       "    <tr>\n",
       "      <td>1294</td>\n",
       "      <td>0</td>\n",
       "      <td>0</td>\n",
       "      <td>1</td>\n",
       "      <td>0</td>\n",
       "      <td>0</td>\n",
       "      <td>0</td>\n",
       "      <td>0</td>\n",
       "      <td>0</td>\n",
       "      <td>0</td>\n",
       "      <td>0</td>\n",
       "      <td>0</td>\n",
       "      <td>0</td>\n",
       "      <td>0</td>\n",
       "      <td>0</td>\n",
       "      <td>0</td>\n",
       "      <td>0</td>\n",
       "      <td>0</td>\n",
       "      <td>0</td>\n",
       "      <td>0.070548</td>\n",
       "      <td>-0.830182</td>\n",
       "      <td>-0.341727</td>\n",
       "      <td>-0.166963</td>\n",
       "      <td>-0.281103</td>\n",
       "    </tr>\n",
       "    <tr>\n",
       "      <td>860</td>\n",
       "      <td>0</td>\n",
       "      <td>0</td>\n",
       "      <td>0</td>\n",
       "      <td>1</td>\n",
       "      <td>0</td>\n",
       "      <td>0</td>\n",
       "      <td>0</td>\n",
       "      <td>0</td>\n",
       "      <td>0</td>\n",
       "      <td>0</td>\n",
       "      <td>0</td>\n",
       "      <td>0</td>\n",
       "      <td>0</td>\n",
       "      <td>0</td>\n",
       "      <td>0</td>\n",
       "      <td>0</td>\n",
       "      <td>0</td>\n",
       "      <td>0</td>\n",
       "      <td>-0.290224</td>\n",
       "      <td>0.007487</td>\n",
       "      <td>-0.222604</td>\n",
       "      <td>-0.464069</td>\n",
       "      <td>0.021842</td>\n",
       "    </tr>\n",
       "    <tr>\n",
       "      <td>1459</td>\n",
       "      <td>0</td>\n",
       "      <td>0</td>\n",
       "      <td>0</td>\n",
       "      <td>1</td>\n",
       "      <td>0</td>\n",
       "      <td>0</td>\n",
       "      <td>0</td>\n",
       "      <td>0</td>\n",
       "      <td>0</td>\n",
       "      <td>0</td>\n",
       "      <td>0</td>\n",
       "      <td>0</td>\n",
       "      <td>0</td>\n",
       "      <td>0</td>\n",
       "      <td>0</td>\n",
       "      <td>0</td>\n",
       "      <td>0</td>\n",
       "      <td>0</td>\n",
       "      <td>-0.173207</td>\n",
       "      <td>-0.457885</td>\n",
       "      <td>-0.466211</td>\n",
       "      <td>0.024718</td>\n",
       "      <td>-0.392767</td>\n",
       "    </tr>\n",
       "    <tr>\n",
       "      <td>1126</td>\n",
       "      <td>0</td>\n",
       "      <td>0</td>\n",
       "      <td>1</td>\n",
       "      <td>0</td>\n",
       "      <td>0</td>\n",
       "      <td>0</td>\n",
       "      <td>0</td>\n",
       "      <td>0</td>\n",
       "      <td>0</td>\n",
       "      <td>0</td>\n",
       "      <td>0</td>\n",
       "      <td>0</td>\n",
       "      <td>0</td>\n",
       "      <td>0</td>\n",
       "      <td>0</td>\n",
       "      <td>0</td>\n",
       "      <td>0</td>\n",
       "      <td>0</td>\n",
       "      <td>-0.248103</td>\n",
       "      <td>0.472858</td>\n",
       "      <td>-0.601421</td>\n",
       "      <td>-0.550325</td>\n",
       "      <td>-0.518343</td>\n",
       "    </tr>\n",
       "  </tbody>\n",
       "</table>\n",
       "<p>1467 rows × 23 columns</p>\n",
       "</div>"
      ],
      "text/plain": [
       "      adventure  animation  biography  comedy  crime  documentary  drama  family  fantasy  horror  music  musical  mystery  romance  sci-fi  sport  thriller  western  popularity  vote_average  vote_count  production_budget  worldwide_gross\n",
       "383           1          0          0       0      0            0      0       0        0       0      0        0        0        0       0      0         0        0    0.672582      0.100561    0.924956           0.695602         4.106879\n",
       "408           0          0          0       1      0            0      0       0        0       0      0        0        0        0       0      0         0        0   -0.219815      0.938229   -0.282357          -0.607830        -0.451063\n",
       "1677          0          0          0       1      0            0      0       0        0       0      0        0        0        0       0      0         0        0    0.028800      0.100561   -0.495322          -0.646166        -0.518336\n",
       "1504          0          0          0       0      0            0      0       0        0       0      0        0        0        0       0      0         0        0    1.039585      0.938229    0.456126           0.791443         0.860308\n",
       "593           0          0          0       1      0            0      0       0        0       0      0        0        0        0       0      0         0        0    0.162267     -0.271736    0.243927          -0.320308        -0.244944\n",
       "...         ...        ...        ...     ...    ...          ...    ...     ...      ...     ...    ...      ...      ...      ...     ...    ...       ...      ...         ...           ...         ...                ...              ...\n",
       "1130          0          0          0       1      0            0      0       0        0       0      0        0        0        0       0      0         0        0   -0.371351      1.124377   -0.590696          -0.646166        -0.530084\n",
       "1294          0          0          1       0      0            0      0       0        0       0      0        0        0        0       0      0         0        0    0.070548     -0.830182   -0.341727          -0.166963        -0.281103\n",
       "860           0          0          0       1      0            0      0       0        0       0      0        0        0        0       0      0         0        0   -0.290224      0.007487   -0.222604          -0.464069         0.021842\n",
       "1459          0          0          0       1      0            0      0       0        0       0      0        0        0        0       0      0         0        0   -0.173207     -0.457885   -0.466211           0.024718        -0.392767\n",
       "1126          0          0          1       0      0            0      0       0        0       0      0        0        0        0       0      0         0        0   -0.248103      0.472858   -0.601421          -0.550325        -0.518343\n",
       "\n",
       "[1467 rows x 23 columns]"
      ]
     },
     "execution_count": 17,
     "metadata": {},
     "output_type": "execute_result"
    }
   ],
   "source": [
    "ss = StandardScaler()\n",
    "X_train_cont=X_train[['popularity','vote_average', 'vote_count', 'production_budget', 'worldwide_gross']]\n",
    "X_train_cont = pd.DataFrame(ss.fit_transform(X_train_cont), columns=X_train_cont.columns)\n",
    "X_train_scaled = dummies.join(X_train_cont, on=X_train_cont.index)\n",
    "X_train_scaled"
   ]
  },
  {
   "cell_type": "code",
   "execution_count": 18,
   "metadata": {},
   "outputs": [
    {
     "data": {
      "text/plain": [
       "(1467, 23)"
      ]
     },
     "execution_count": 18,
     "metadata": {},
     "output_type": "execute_result"
    }
   ],
   "source": [
    "X_train_scaled.shape"
   ]
  },
  {
   "cell_type": "markdown",
   "metadata": {},
   "source": [
    "### Outlier Removal"
   ]
  },
  {
   "cell_type": "markdown",
   "metadata": {},
   "source": [
    "## Step 4 - Messy Model"
   ]
  },
  {
   "cell_type": "markdown",
   "metadata": {},
   "source": [
    "### First let's use statsmodels"
   ]
  },
  {
   "cell_type": "code",
   "execution_count": 19,
   "metadata": {
    "scrolled": true
   },
   "outputs": [
    {
     "name": "stderr",
     "output_type": "stream",
     "text": [
      "/opt/anaconda3/lib/python3.7/site-packages/numpy/core/fromnumeric.py:2495: FutureWarning: Method .ptp is deprecated and will be removed in a future version. Use numpy.ptp instead.\n",
      "  return ptp(axis=axis, out=out, **kwargs)\n"
     ]
    },
    {
     "data": {
      "text/html": [
       "<table class=\"simpletable\">\n",
       "<caption>OLS Regression Results</caption>\n",
       "<tr>\n",
       "  <th>Dep. Variable:</th>         <td>profit</td>      <th>  R-squared:         </th>  <td>   1.000</td> \n",
       "</tr>\n",
       "<tr>\n",
       "  <th>Model:</th>                   <td>OLS</td>       <th>  Adj. R-squared:    </th>  <td>   1.000</td> \n",
       "</tr>\n",
       "<tr>\n",
       "  <th>Method:</th>             <td>Least Squares</td>  <th>  F-statistic:       </th>  <td>3.869e+31</td>\n",
       "</tr>\n",
       "<tr>\n",
       "  <th>Date:</th>             <td>Tue, 19 May 2020</td> <th>  Prob (F-statistic):</th>   <td>  0.00</td>  \n",
       "</tr>\n",
       "<tr>\n",
       "  <th>Time:</th>                 <td>15:03:16</td>     <th>  Log-Likelihood:    </th>  <td>  20315.</td> \n",
       "</tr>\n",
       "<tr>\n",
       "  <th>No. Observations:</th>      <td>  1467</td>      <th>  AIC:               </th> <td>-4.058e+04</td>\n",
       "</tr>\n",
       "<tr>\n",
       "  <th>Df Residuals:</th>          <td>  1443</td>      <th>  BIC:               </th> <td>-4.046e+04</td>\n",
       "</tr>\n",
       "<tr>\n",
       "  <th>Df Model:</th>              <td>    23</td>      <th>                     </th>      <td> </td>    \n",
       "</tr>\n",
       "<tr>\n",
       "  <th>Covariance Type:</th>      <td>nonrobust</td>    <th>                     </th>      <td> </td>    \n",
       "</tr>\n",
       "</table>\n",
       "<table class=\"simpletable\">\n",
       "<tr>\n",
       "          <td></td>             <th>coef</th>     <th>std err</th>      <th>t</th>      <th>P>|t|</th>  <th>[0.025</th>    <th>0.975]</th>  \n",
       "</tr>\n",
       "<tr>\n",
       "  <th>const</th>             <td> 8.008e+07</td> <td> 1.32e-08</td> <td> 6.07e+15</td> <td> 0.000</td> <td> 8.01e+07</td> <td> 8.01e+07</td>\n",
       "</tr>\n",
       "<tr>\n",
       "  <th>adventure</th>         <td> 1.923e-07</td> <td> 2.48e-08</td> <td>    7.765</td> <td> 0.000</td> <td> 1.44e-07</td> <td> 2.41e-07</td>\n",
       "</tr>\n",
       "<tr>\n",
       "  <th>animation</th>         <td> 8.941e-08</td> <td> 7.59e-08</td> <td>    1.178</td> <td> 0.239</td> <td>-5.95e-08</td> <td> 2.38e-07</td>\n",
       "</tr>\n",
       "<tr>\n",
       "  <th>biography</th>         <td> 1.001e-08</td> <td> 2.74e-08</td> <td>    0.365</td> <td> 0.715</td> <td>-4.38e-08</td> <td> 6.39e-08</td>\n",
       "</tr>\n",
       "<tr>\n",
       "  <th>comedy</th>            <td>-4.284e-08</td> <td>    2e-08</td> <td>   -2.144</td> <td> 0.032</td> <td> -8.2e-08</td> <td>-3.64e-09</td>\n",
       "</tr>\n",
       "<tr>\n",
       "  <th>crime</th>             <td>-1.157e-07</td> <td> 3.22e-08</td> <td>   -3.593</td> <td> 0.000</td> <td>-1.79e-07</td> <td>-5.25e-08</td>\n",
       "</tr>\n",
       "<tr>\n",
       "  <th>documentary</th>       <td>-1.108e-07</td> <td> 3.16e-08</td> <td>   -3.513</td> <td> 0.000</td> <td>-1.73e-07</td> <td>-4.89e-08</td>\n",
       "</tr>\n",
       "<tr>\n",
       "  <th>drama</th>             <td>-2.831e-07</td> <td> 2.08e-08</td> <td>  -13.596</td> <td> 0.000</td> <td>-3.24e-07</td> <td>-2.42e-07</td>\n",
       "</tr>\n",
       "<tr>\n",
       "  <th>family</th>            <td>-3.427e-07</td> <td> 1.07e-07</td> <td>   -3.203</td> <td> 0.001</td> <td>-5.53e-07</td> <td>-1.33e-07</td>\n",
       "</tr>\n",
       "<tr>\n",
       "  <th>fantasy</th>           <td> 1.749e-07</td> <td> 8.47e-08</td> <td>    2.065</td> <td> 0.039</td> <td> 8.74e-09</td> <td> 3.41e-07</td>\n",
       "</tr>\n",
       "<tr>\n",
       "  <th>horror</th>            <td> 6.333e-08</td> <td> 2.83e-08</td> <td>    2.242</td> <td> 0.025</td> <td> 7.91e-09</td> <td> 1.19e-07</td>\n",
       "</tr>\n",
       "<tr>\n",
       "  <th>music</th>             <td> 1.863e-08</td> <td> 2.38e-07</td> <td>    0.078</td> <td> 0.938</td> <td>-4.48e-07</td> <td> 4.86e-07</td>\n",
       "</tr>\n",
       "<tr>\n",
       "  <th>musical</th>           <td>-2.459e-07</td> <td> 2.37e-07</td> <td>   -1.038</td> <td> 0.299</td> <td>-7.11e-07</td> <td> 2.19e-07</td>\n",
       "</tr>\n",
       "<tr>\n",
       "  <th>mystery</th>           <td> 1.015e-07</td> <td> 9.07e-08</td> <td>    1.119</td> <td> 0.263</td> <td>-7.64e-08</td> <td> 2.79e-07</td>\n",
       "</tr>\n",
       "<tr>\n",
       "  <th>romance</th>           <td>-5.849e-07</td> <td> 1.68e-07</td> <td>   -3.491</td> <td> 0.000</td> <td>-9.14e-07</td> <td>-2.56e-07</td>\n",
       "</tr>\n",
       "<tr>\n",
       "  <th>sci-fi</th>            <td> 8.511e-07</td> <td> 1.37e-07</td> <td>    6.205</td> <td> 0.000</td> <td> 5.82e-07</td> <td> 1.12e-06</td>\n",
       "</tr>\n",
       "<tr>\n",
       "  <th>sport</th>             <td>-4.098e-08</td> <td> 2.37e-07</td> <td>   -0.173</td> <td> 0.863</td> <td>-5.06e-07</td> <td> 4.24e-07</td>\n",
       "</tr>\n",
       "<tr>\n",
       "  <th>thriller</th>          <td> -1.08e-07</td> <td> 6.27e-08</td> <td>   -1.722</td> <td> 0.085</td> <td>-2.31e-07</td> <td>  1.5e-08</td>\n",
       "</tr>\n",
       "<tr>\n",
       "  <th>western</th>           <td> 2.179e-07</td> <td> 1.68e-07</td> <td>    1.298</td> <td> 0.195</td> <td>-1.12e-07</td> <td> 5.47e-07</td>\n",
       "</tr>\n",
       "<tr>\n",
       "  <th>popularity</th>        <td>-4.843e-08</td> <td> 9.15e-09</td> <td>   -5.294</td> <td> 0.000</td> <td>-6.64e-08</td> <td>-3.05e-08</td>\n",
       "</tr>\n",
       "<tr>\n",
       "  <th>vote_average</th>      <td>-3.329e-08</td> <td> 7.16e-09</td> <td>   -4.652</td> <td> 0.000</td> <td>-4.73e-08</td> <td>-1.93e-08</td>\n",
       "</tr>\n",
       "<tr>\n",
       "  <th>vote_count</th>        <td> 3.166e-08</td> <td> 1.11e-08</td> <td>    2.858</td> <td> 0.004</td> <td> 9.93e-09</td> <td> 5.34e-08</td>\n",
       "</tr>\n",
       "<tr>\n",
       "  <th>production_budget</th> <td>-5.217e+07</td> <td> 1.13e-08</td> <td>-4.63e+15</td> <td> 0.000</td> <td>-5.22e+07</td> <td>-5.22e+07</td>\n",
       "</tr>\n",
       "<tr>\n",
       "  <th>worldwide_gross</th>   <td>  2.23e+08</td> <td>  1.2e-08</td> <td> 1.86e+16</td> <td> 0.000</td> <td> 2.23e+08</td> <td> 2.23e+08</td>\n",
       "</tr>\n",
       "</table>\n",
       "<table class=\"simpletable\">\n",
       "<tr>\n",
       "  <th>Omnibus:</th>       <td>581.912</td> <th>  Durbin-Watson:     </th> <td>   1.927</td>\n",
       "</tr>\n",
       "<tr>\n",
       "  <th>Prob(Omnibus):</th> <td> 0.000</td>  <th>  Jarque-Bera (JB):  </th> <td>5458.091</td>\n",
       "</tr>\n",
       "<tr>\n",
       "  <th>Skew:</th>          <td> 1.584</td>  <th>  Prob(JB):          </th> <td>    0.00</td>\n",
       "</tr>\n",
       "<tr>\n",
       "  <th>Kurtosis:</th>      <td>11.903</td>  <th>  Cond. No.          </th> <td>    68.7</td>\n",
       "</tr>\n",
       "</table><br/><br/>Warnings:<br/>[1] Standard Errors assume that the covariance matrix of the errors is correctly specified."
      ],
      "text/plain": [
       "<class 'statsmodels.iolib.summary.Summary'>\n",
       "\"\"\"\n",
       "                            OLS Regression Results                            \n",
       "==============================================================================\n",
       "Dep. Variable:                 profit   R-squared:                       1.000\n",
       "Model:                            OLS   Adj. R-squared:                  1.000\n",
       "Method:                 Least Squares   F-statistic:                 3.869e+31\n",
       "Date:                Tue, 19 May 2020   Prob (F-statistic):               0.00\n",
       "Time:                        15:03:16   Log-Likelihood:                 20315.\n",
       "No. Observations:                1467   AIC:                        -4.058e+04\n",
       "Df Residuals:                    1443   BIC:                        -4.046e+04\n",
       "Df Model:                          23                                         \n",
       "Covariance Type:            nonrobust                                         \n",
       "=====================================================================================\n",
       "                        coef    std err          t      P>|t|      [0.025      0.975]\n",
       "-------------------------------------------------------------------------------------\n",
       "const              8.008e+07   1.32e-08   6.07e+15      0.000    8.01e+07    8.01e+07\n",
       "adventure          1.923e-07   2.48e-08      7.765      0.000    1.44e-07    2.41e-07\n",
       "animation          8.941e-08   7.59e-08      1.178      0.239   -5.95e-08    2.38e-07\n",
       "biography          1.001e-08   2.74e-08      0.365      0.715   -4.38e-08    6.39e-08\n",
       "comedy            -4.284e-08      2e-08     -2.144      0.032    -8.2e-08   -3.64e-09\n",
       "crime             -1.157e-07   3.22e-08     -3.593      0.000   -1.79e-07   -5.25e-08\n",
       "documentary       -1.108e-07   3.16e-08     -3.513      0.000   -1.73e-07   -4.89e-08\n",
       "drama             -2.831e-07   2.08e-08    -13.596      0.000   -3.24e-07   -2.42e-07\n",
       "family            -3.427e-07   1.07e-07     -3.203      0.001   -5.53e-07   -1.33e-07\n",
       "fantasy            1.749e-07   8.47e-08      2.065      0.039    8.74e-09    3.41e-07\n",
       "horror             6.333e-08   2.83e-08      2.242      0.025    7.91e-09    1.19e-07\n",
       "music              1.863e-08   2.38e-07      0.078      0.938   -4.48e-07    4.86e-07\n",
       "musical           -2.459e-07   2.37e-07     -1.038      0.299   -7.11e-07    2.19e-07\n",
       "mystery            1.015e-07   9.07e-08      1.119      0.263   -7.64e-08    2.79e-07\n",
       "romance           -5.849e-07   1.68e-07     -3.491      0.000   -9.14e-07   -2.56e-07\n",
       "sci-fi             8.511e-07   1.37e-07      6.205      0.000    5.82e-07    1.12e-06\n",
       "sport             -4.098e-08   2.37e-07     -0.173      0.863   -5.06e-07    4.24e-07\n",
       "thriller           -1.08e-07   6.27e-08     -1.722      0.085   -2.31e-07     1.5e-08\n",
       "western            2.179e-07   1.68e-07      1.298      0.195   -1.12e-07    5.47e-07\n",
       "popularity        -4.843e-08   9.15e-09     -5.294      0.000   -6.64e-08   -3.05e-08\n",
       "vote_average      -3.329e-08   7.16e-09     -4.652      0.000   -4.73e-08   -1.93e-08\n",
       "vote_count         3.166e-08   1.11e-08      2.858      0.004    9.93e-09    5.34e-08\n",
       "production_budget -5.217e+07   1.13e-08  -4.63e+15      0.000   -5.22e+07   -5.22e+07\n",
       "worldwide_gross     2.23e+08    1.2e-08   1.86e+16      0.000    2.23e+08    2.23e+08\n",
       "==============================================================================\n",
       "Omnibus:                      581.912   Durbin-Watson:                   1.927\n",
       "Prob(Omnibus):                  0.000   Jarque-Bera (JB):             5458.091\n",
       "Skew:                           1.584   Prob(JB):                         0.00\n",
       "Kurtosis:                      11.903   Cond. No.                         68.7\n",
       "==============================================================================\n",
       "\n",
       "Warnings:\n",
       "[1] Standard Errors assume that the covariance matrix of the errors is correctly specified.\n",
       "\"\"\""
      ]
     },
     "execution_count": 19,
     "metadata": {},
     "output_type": "execute_result"
    }
   ],
   "source": [
    "#Linear regression using statsmodels\n",
    "X_train_const = sm.add_constant(X_train_scaled)\n",
    "model =sm.OLS(y_train, X_train_const, hascont=True)\n",
    "fitted_model = model.fit()\n",
    "fitted_model.summary()"
   ]
  },
  {
   "cell_type": "markdown",
   "metadata": {},
   "source": [
    "## Now let's use sklearn"
   ]
  },
  {
   "cell_type": "code",
   "execution_count": 20,
   "metadata": {},
   "outputs": [],
   "source": [
    "#initialize a linear regression model in sklearn\n",
    "linreg = LinearRegression()"
   ]
  },
  {
   "cell_type": "code",
   "execution_count": 21,
   "metadata": {},
   "outputs": [
    {
     "data": {
      "text/plain": [
       "1.0"
      ]
     },
     "execution_count": 21,
     "metadata": {},
     "output_type": "execute_result"
    }
   ],
   "source": [
    "#fit linear model to training data\n",
    "linreg.fit(X_train_scaled, y_train)\n",
    "linreg.score(X_train_scaled, y_train)"
   ]
  },
  {
   "cell_type": "code",
   "execution_count": 22,
   "metadata": {},
   "outputs": [
    {
     "data": {
      "text/plain": [
       "array([-1.78214770e-07,  9.98377800e-07,  8.38190317e-09,  1.22934580e-07,\n",
       "        4.93600965e-08,  1.49011612e-08,  6.33299351e-08, -1.27183739e-07,\n",
       "       -3.95812094e-08, -1.32247806e-07,  6.45071850e-07,  1.02518243e-07,\n",
       "       -7.62520358e-08,  1.84634700e-07, -2.20490620e-07,  2.16954504e-07,\n",
       "       -1.06636435e-07,  2.37370841e-07, -2.12341547e-07, -2.14204192e-08,\n",
       "       -1.93715096e-07, -5.21699555e+07,  2.23025395e+08])"
      ]
     },
     "execution_count": 22,
     "metadata": {},
     "output_type": "execute_result"
    }
   ],
   "source": [
    "linreg.coef_"
   ]
  },
  {
   "cell_type": "code",
   "execution_count": 23,
   "metadata": {},
   "outputs": [
    {
     "data": {
      "text/plain": [
       "(1467, 23)"
      ]
     },
     "execution_count": 23,
     "metadata": {},
     "output_type": "execute_result"
    }
   ],
   "source": [
    "#get r squared value from sklearn\n",
    "X_train_scaled.shape"
   ]
  },
  {
   "cell_type": "markdown",
   "metadata": {},
   "source": [
    "## Step 5 - Model Evaluation"
   ]
  },
  {
   "cell_type": "code",
   "execution_count": 25,
   "metadata": {},
   "outputs": [
    {
     "data": {
      "text/plain": [
       "(1467, 23)"
      ]
     },
     "execution_count": 25,
     "metadata": {},
     "output_type": "execute_result"
    }
   ],
   "source": [
    "#get r squared value from sklearn\n",
    "X_train_scaled.shape"
   ]
  },
  {
   "cell_type": "code",
   "execution_count": 24,
   "metadata": {},
   "outputs": [],
   "source": [
    "#create formula for adjusted r squared\n",
    "def adjusted_r_suared(r_squared, num_samples, num_regressors):\n",
    "    return 1 - ((1-r_squared)*(num_samples - 1) / (num_samples - num_regressors - 1))"
   ]
  },
  {
   "cell_type": "code",
   "execution_count": 26,
   "metadata": {},
   "outputs": [
    {
     "data": {
      "text/plain": [
       "1.0"
      ]
     },
     "execution_count": 26,
     "metadata": {},
     "output_type": "execute_result"
    }
   ],
   "source": [
    "#calculate adjusted r squared\n",
    "adjusted_r_suared(1, 1467, 23)"
   ]
  },
  {
   "cell_type": "markdown",
   "metadata": {},
   "source": [
    "What does the r-squared value mean? What do the r-squared values tell us about the fit of our model? What about adjusted r-squared?"
   ]
  },
  {
   "cell_type": "markdown",
   "metadata": {},
   "source": [
    "### Now let's look at predictions of relative performance to compare to actual relative performance"
   ]
  },
  {
   "cell_type": "code",
   "execution_count": 27,
   "metadata": {},
   "outputs": [],
   "source": [
    "linreg_results_df = pd.DataFrame(linreg.predict(X_train), y_train).reset_index()"
   ]
  },
  {
   "cell_type": "code",
   "execution_count": 30,
   "metadata": {},
   "outputs": [],
   "source": [
    "linreg_results_df.columns = ['Actual_profit', 'Predicted_Profit']"
   ]
  },
  {
   "cell_type": "code",
   "execution_count": 31,
   "metadata": {},
   "outputs": [
    {
     "data": {
      "text/html": [
       "<div>\n",
       "<style scoped>\n",
       "    .dataframe tbody tr th:only-of-type {\n",
       "        vertical-align: middle;\n",
       "    }\n",
       "\n",
       "    .dataframe tbody tr th {\n",
       "        vertical-align: top;\n",
       "    }\n",
       "\n",
       "    .dataframe thead th {\n",
       "        text-align: right;\n",
       "    }\n",
       "</style>\n",
       "<table border=\"1\" class=\"dataframe\">\n",
       "  <thead>\n",
       "    <tr style=\"text-align: right;\">\n",
       "      <th></th>\n",
       "      <th>Actual_profit</th>\n",
       "      <th>Predicted_Profit</th>\n",
       "    </tr>\n",
       "  </thead>\n",
       "  <tbody>\n",
       "    <tr>\n",
       "      <td>0</td>\n",
       "      <td>959727750</td>\n",
       "      <td>2.268578e+17</td>\n",
       "    </tr>\n",
       "    <tr>\n",
       "      <td>1</td>\n",
       "      <td>11190831</td>\n",
       "      <td>3.691828e+15</td>\n",
       "    </tr>\n",
       "    <tr>\n",
       "      <td>2</td>\n",
       "      <td>-1812698</td>\n",
       "      <td>4.499996e+14</td>\n",
       "    </tr>\n",
       "    <tr>\n",
       "      <td>3</td>\n",
       "      <td>230660018</td>\n",
       "      <td>6.511148e+16</td>\n",
       "    </tr>\n",
       "    <tr>\n",
       "      <td>4</td>\n",
       "      <td>42160680</td>\n",
       "      <td>1.316172e+16</td>\n",
       "    </tr>\n",
       "  </tbody>\n",
       "</table>\n",
       "</div>"
      ],
      "text/plain": [
       "   Actual_profit  Predicted_Profit\n",
       "0      959727750      2.268578e+17\n",
       "1       11190831      3.691828e+15\n",
       "2       -1812698      4.499996e+14\n",
       "3      230660018      6.511148e+16\n",
       "4       42160680      1.316172e+16"
      ]
     },
     "execution_count": 31,
     "metadata": {},
     "output_type": "execute_result"
    }
   ],
   "source": [
    "linreg_results_df.head()"
   ]
  },
  {
   "cell_type": "markdown",
   "metadata": {},
   "source": [
    "## Let's use regularization to see if that helps our model fit"
   ]
  },
  {
   "cell_type": "code",
   "execution_count": 32,
   "metadata": {},
   "outputs": [],
   "source": [
    "#importing Lasso and Ridge models from sklearn\n",
    "from sklearn.linear_model import Lasso, Ridge"
   ]
  },
  {
   "cell_type": "markdown",
   "metadata": {},
   "source": [
    "## Lasso Regularizer"
   ]
  },
  {
   "cell_type": "code",
   "execution_count": 33,
   "metadata": {},
   "outputs": [],
   "source": [
    "#conduct lasso regression on training data\n",
    "lasso = Lasso()"
   ]
  },
  {
   "cell_type": "code",
   "execution_count": 34,
   "metadata": {},
   "outputs": [
    {
     "data": {
      "text/plain": [
       "0.9999999942793854"
      ]
     },
     "execution_count": 34,
     "metadata": {},
     "output_type": "execute_result"
    }
   ],
   "source": [
    "#Evaluation of lasso on training data\n",
    "lasso.fit(X_train_scaled, y_train)\n",
    "lasso.score(X_train_scaled, y_train)"
   ]
  },
  {
   "cell_type": "code",
   "execution_count": 35,
   "metadata": {},
   "outputs": [
    {
     "data": {
      "text/plain": [
       "array([ 6.17155966e+03,  1.05697194e+04,  3.60062995e+03,  4.34241428e+03,\n",
       "        3.46849626e+03,  6.83112183e+03,  4.66298144e+03, -5.47932702e+03,\n",
       "        6.55448564e+03, -8.76513702e+01,  1.90039781e+04,  1.64039924e+04,\n",
       "        1.77420904e+04,  2.38135346e+03,  1.33872728e+03,  1.87910889e+04,\n",
       "        6.39177682e+03,  1.51410304e+04,  1.50333884e+04,  8.59738330e+02,\n",
       "       -1.25081228e+04, -5.21865274e+07,  2.23039731e+08])"
      ]
     },
     "execution_count": 35,
     "metadata": {},
     "output_type": "execute_result"
    }
   ],
   "source": [
    "#examine coefficients from lasso\n",
    "lasso.coef_"
   ]
  },
  {
   "cell_type": "markdown",
   "metadata": {},
   "source": [
    "## Ridge Regularizer"
   ]
  },
  {
   "cell_type": "code",
   "execution_count": 36,
   "metadata": {},
   "outputs": [],
   "source": [
    "#conduct ridge regression on training data\n",
    "ridge = Ridge()"
   ]
  },
  {
   "cell_type": "code",
   "execution_count": 37,
   "metadata": {},
   "outputs": [
    {
     "data": {
      "text/plain": [
       "0.9999966391071718"
      ]
     },
     "execution_count": 37,
     "metadata": {},
     "output_type": "execute_result"
    }
   ],
   "source": [
    "#Evaluation of ridge on training data\n",
    "ridge.fit(X_train_scaled, y_train)\n",
    "ridge.score(X_train_scaled, y_train)"
   ]
  },
  {
   "cell_type": "code",
   "execution_count": 38,
   "metadata": {},
   "outputs": [
    {
     "data": {
      "text/plain": [
       "array([ 1.44807881e+05,  1.78273870e+05,  1.03471933e+05,  1.23028407e+05,\n",
       "        7.31263373e+04,  1.25931254e+05,  8.89687126e+04,  4.51632202e+05,\n",
       "       -1.83709993e+04,  2.27985279e+05, -3.55933576e+04,  7.40908373e+04,\n",
       "        5.58946862e+04,  4.37645347e+04,  1.18442428e+05,  1.75465517e+04,\n",
       "        9.22470399e+04,  1.21831846e+05, -3.15232904e+04,  7.83501941e+03,\n",
       "        2.26962239e+05, -5.17259014e+07,  2.22376701e+08])"
      ]
     },
     "execution_count": 38,
     "metadata": {},
     "output_type": "execute_result"
    }
   ],
   "source": [
    "#examine coefficients from ridge\n",
    "ridge.coef_"
   ]
  },
  {
   "cell_type": "markdown",
   "metadata": {},
   "source": [
    "## Step 6 - Best Model Evaluation"
   ]
  },
  {
   "cell_type": "code",
   "execution_count": null,
   "metadata": {},
   "outputs": [],
   "source": []
  },
  {
   "cell_type": "code",
   "execution_count": null,
   "metadata": {},
   "outputs": [],
   "source": []
  },
  {
   "cell_type": "markdown",
   "metadata": {},
   "source": [
    "## Step 7 - Model Interpretation"
   ]
  },
  {
   "cell_type": "markdown",
   "metadata": {},
   "source": [
    "What take-ways do we have? Conclusions about our initial question? Who would care? Why do they care?"
   ]
  },
  {
   "cell_type": "code",
   "execution_count": null,
   "metadata": {},
   "outputs": [],
   "source": []
  }
 ],
 "metadata": {
  "kernelspec": {
   "display_name": "Python 3",
   "language": "python",
   "name": "python3"
  },
  "language_info": {
   "codemirror_mode": {
    "name": "ipython",
    "version": 3
   },
   "file_extension": ".py",
   "mimetype": "text/x-python",
   "name": "python",
   "nbconvert_exporter": "python",
   "pygments_lexer": "ipython3",
   "version": "3.7.4"
  }
 },
 "nbformat": 4,
 "nbformat_minor": 2
}
