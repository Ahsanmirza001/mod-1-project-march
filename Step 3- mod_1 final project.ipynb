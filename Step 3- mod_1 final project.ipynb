{
 "cells": [
  {
   "cell_type": "markdown",
   "metadata": {},
   "source": [
    "### Project (Mod 1 Project - Flatiron Data Science Bootcamp, March , 2020 Washington, D.C.)"
   ]
  },
  {
   "cell_type": "code",
   "execution_count": 1,
   "metadata": {},
   "outputs": [],
   "source": [
    "import pandas as pd\n",
    "import numpy as np\n",
    "import statsmodels.api as sm\n",
    "\n",
    "from sklearn.linear_model import LinearRegression\n",
    "from sklearn.model_selection import cross_val_score, train_test_split\n",
    "\n",
    "import matplotlib.pyplot as plt\n",
    "import seaborn as sns\n",
    "from sklearn.model_selection import train_test_split\n",
    "from sklearn.linear_model import LinearRegression\n",
    "from sklearn.preprocessing import StandardScaler\n",
    "\n",
    "%matplotlib inline\n",
    "pd.set_option('display.max_rows', 500)\n",
    "pd.set_option('display.max_columns', 500)\n",
    "pd.set_option('display.width', 1000)"
   ]
  },
  {
   "cell_type": "code",
   "execution_count": 2,
   "metadata": {},
   "outputs": [],
   "source": [
    "d = pd.read_csv('imdb_ahsan.csv')"
   ]
  },
  {
   "cell_type": "code",
   "execution_count": 3,
   "metadata": {},
   "outputs": [
    {
     "data": {
      "text/html": [
       "<div>\n",
       "<style scoped>\n",
       "    .dataframe tbody tr th:only-of-type {\n",
       "        vertical-align: middle;\n",
       "    }\n",
       "\n",
       "    .dataframe tbody tr th {\n",
       "        vertical-align: top;\n",
       "    }\n",
       "\n",
       "    .dataframe thead th {\n",
       "        text-align: right;\n",
       "    }\n",
       "</style>\n",
       "<table border=\"1\" class=\"dataframe\">\n",
       "  <thead>\n",
       "    <tr style=\"text-align: right;\">\n",
       "      <th></th>\n",
       "      <th>Unnamed: 0</th>\n",
       "      <th>popularity</th>\n",
       "      <th>vote_average</th>\n",
       "      <th>vote_count</th>\n",
       "      <th>production_budget</th>\n",
       "      <th>worldwide_gross</th>\n",
       "      <th>profit</th>\n",
       "      <th>genre</th>\n",
       "      <th>genre_1</th>\n",
       "      <th>genre_2</th>\n",
       "    </tr>\n",
       "  </thead>\n",
       "  <tbody>\n",
       "    <tr>\n",
       "      <td>0</td>\n",
       "      <td>0</td>\n",
       "      <td>6.099</td>\n",
       "      <td>3.3</td>\n",
       "      <td>102</td>\n",
       "      <td>1500000</td>\n",
       "      <td>0</td>\n",
       "      <td>-1500000</td>\n",
       "      <td>crime</td>\n",
       "      <td>drama</td>\n",
       "      <td>horror</td>\n",
       "    </tr>\n",
       "    <tr>\n",
       "      <td>1</td>\n",
       "      <td>1</td>\n",
       "      <td>17.892</td>\n",
       "      <td>6.9</td>\n",
       "      <td>4629</td>\n",
       "      <td>5000000</td>\n",
       "      <td>108286422</td>\n",
       "      <td>103286422</td>\n",
       "      <td>drama</td>\n",
       "      <td>horror</td>\n",
       "      <td>mystery</td>\n",
       "    </tr>\n",
       "    <tr>\n",
       "      <td>2</td>\n",
       "      <td>3</td>\n",
       "      <td>13.183</td>\n",
       "      <td>5.6</td>\n",
       "      <td>1312</td>\n",
       "      <td>35000000</td>\n",
       "      <td>71118378</td>\n",
       "      <td>36118378</td>\n",
       "      <td>action</td>\n",
       "      <td>drama</td>\n",
       "      <td>history</td>\n",
       "    </tr>\n",
       "    <tr>\n",
       "      <td>3</td>\n",
       "      <td>4</td>\n",
       "      <td>16.493</td>\n",
       "      <td>7.9</td>\n",
       "      <td>6631</td>\n",
       "      <td>20000000</td>\n",
       "      <td>181025343</td>\n",
       "      <td>161025343</td>\n",
       "      <td>biography</td>\n",
       "      <td>drama</td>\n",
       "      <td>history</td>\n",
       "    </tr>\n",
       "    <tr>\n",
       "      <td>4</td>\n",
       "      <td>5</td>\n",
       "      <td>11.435</td>\n",
       "      <td>7.0</td>\n",
       "      <td>4469</td>\n",
       "      <td>18000000</td>\n",
       "      <td>60217171</td>\n",
       "      <td>42217171</td>\n",
       "      <td>adventure</td>\n",
       "      <td>biography</td>\n",
       "      <td>drama</td>\n",
       "    </tr>\n",
       "  </tbody>\n",
       "</table>\n",
       "</div>"
      ],
      "text/plain": [
       "   Unnamed: 0  popularity  vote_average  vote_count  production_budget  worldwide_gross     profit      genre    genre_1  genre_2\n",
       "0           0       6.099           3.3         102            1500000                0   -1500000      crime      drama   horror\n",
       "1           1      17.892           6.9        4629            5000000        108286422  103286422      drama     horror  mystery\n",
       "2           3      13.183           5.6        1312           35000000         71118378   36118378     action      drama  history\n",
       "3           4      16.493           7.9        6631           20000000        181025343  161025343  biography      drama  history\n",
       "4           5      11.435           7.0        4469           18000000         60217171   42217171  adventure  biography    drama"
      ]
     },
     "execution_count": 3,
     "metadata": {},
     "output_type": "execute_result"
    }
   ],
   "source": [
    "d.head()"
   ]
  },
  {
   "cell_type": "code",
   "execution_count": 4,
   "metadata": {},
   "outputs": [],
   "source": [
    "df_f = d.drop(columns = ['Unnamed: 0'])"
   ]
  },
  {
   "cell_type": "code",
   "execution_count": 5,
   "metadata": {
    "scrolled": false
   },
   "outputs": [
    {
     "data": {
      "text/html": [
       "<div>\n",
       "<style scoped>\n",
       "    .dataframe tbody tr th:only-of-type {\n",
       "        vertical-align: middle;\n",
       "    }\n",
       "\n",
       "    .dataframe tbody tr th {\n",
       "        vertical-align: top;\n",
       "    }\n",
       "\n",
       "    .dataframe thead th {\n",
       "        text-align: right;\n",
       "    }\n",
       "</style>\n",
       "<table border=\"1\" class=\"dataframe\">\n",
       "  <thead>\n",
       "    <tr style=\"text-align: right;\">\n",
       "      <th></th>\n",
       "      <th>popularity</th>\n",
       "      <th>vote_average</th>\n",
       "      <th>vote_count</th>\n",
       "      <th>production_budget</th>\n",
       "      <th>worldwide_gross</th>\n",
       "      <th>profit</th>\n",
       "      <th>genre</th>\n",
       "      <th>genre_1</th>\n",
       "      <th>genre_2</th>\n",
       "    </tr>\n",
       "  </thead>\n",
       "  <tbody>\n",
       "    <tr>\n",
       "      <td>0</td>\n",
       "      <td>6.099</td>\n",
       "      <td>3.3</td>\n",
       "      <td>102</td>\n",
       "      <td>1500000</td>\n",
       "      <td>0</td>\n",
       "      <td>-1500000</td>\n",
       "      <td>crime</td>\n",
       "      <td>drama</td>\n",
       "      <td>horror</td>\n",
       "    </tr>\n",
       "    <tr>\n",
       "      <td>1</td>\n",
       "      <td>17.892</td>\n",
       "      <td>6.9</td>\n",
       "      <td>4629</td>\n",
       "      <td>5000000</td>\n",
       "      <td>108286422</td>\n",
       "      <td>103286422</td>\n",
       "      <td>drama</td>\n",
       "      <td>horror</td>\n",
       "      <td>mystery</td>\n",
       "    </tr>\n",
       "    <tr>\n",
       "      <td>2</td>\n",
       "      <td>13.183</td>\n",
       "      <td>5.6</td>\n",
       "      <td>1312</td>\n",
       "      <td>35000000</td>\n",
       "      <td>71118378</td>\n",
       "      <td>36118378</td>\n",
       "      <td>action</td>\n",
       "      <td>drama</td>\n",
       "      <td>history</td>\n",
       "    </tr>\n",
       "    <tr>\n",
       "      <td>3</td>\n",
       "      <td>16.493</td>\n",
       "      <td>7.9</td>\n",
       "      <td>6631</td>\n",
       "      <td>20000000</td>\n",
       "      <td>181025343</td>\n",
       "      <td>161025343</td>\n",
       "      <td>biography</td>\n",
       "      <td>drama</td>\n",
       "      <td>history</td>\n",
       "    </tr>\n",
       "    <tr>\n",
       "      <td>4</td>\n",
       "      <td>11.435</td>\n",
       "      <td>7.0</td>\n",
       "      <td>4469</td>\n",
       "      <td>18000000</td>\n",
       "      <td>60217171</td>\n",
       "      <td>42217171</td>\n",
       "      <td>adventure</td>\n",
       "      <td>biography</td>\n",
       "      <td>drama</td>\n",
       "    </tr>\n",
       "  </tbody>\n",
       "</table>\n",
       "</div>"
      ],
      "text/plain": [
       "   popularity  vote_average  vote_count  production_budget  worldwide_gross     profit      genre    genre_1  genre_2\n",
       "0       6.099           3.3         102            1500000                0   -1500000      crime      drama   horror\n",
       "1      17.892           6.9        4629            5000000        108286422  103286422      drama     horror  mystery\n",
       "2      13.183           5.6        1312           35000000         71118378   36118378     action      drama  history\n",
       "3      16.493           7.9        6631           20000000        181025343  161025343  biography      drama  history\n",
       "4      11.435           7.0        4469           18000000         60217171   42217171  adventure  biography    drama"
      ]
     },
     "execution_count": 5,
     "metadata": {},
     "output_type": "execute_result"
    }
   ],
   "source": [
    "df_f.head()"
   ]
  },
  {
   "cell_type": "code",
   "execution_count": 6,
   "metadata": {
    "scrolled": true
   },
   "outputs": [
    {
     "name": "stdout",
     "output_type": "stream",
     "text": [
      "<class 'pandas.core.frame.DataFrame'>\n",
      "RangeIndex: 1079 entries, 0 to 1078\n",
      "Data columns (total 9 columns):\n",
      "popularity           1079 non-null float64\n",
      "vote_average         1079 non-null float64\n",
      "vote_count           1079 non-null int64\n",
      "production_budget    1079 non-null int64\n",
      "worldwide_gross      1079 non-null int64\n",
      "profit               1079 non-null int64\n",
      "genre                1079 non-null object\n",
      "genre_1              1079 non-null object\n",
      "genre_2              1079 non-null object\n",
      "dtypes: float64(2), int64(4), object(3)\n",
      "memory usage: 76.0+ KB\n"
     ]
    }
   ],
   "source": [
    "df_f.info()"
   ]
  },
  {
   "cell_type": "code",
   "execution_count": 7,
   "metadata": {
    "scrolled": true
   },
   "outputs": [
    {
     "data": {
      "text/html": [
       "<div>\n",
       "<style scoped>\n",
       "    .dataframe tbody tr th:only-of-type {\n",
       "        vertical-align: middle;\n",
       "    }\n",
       "\n",
       "    .dataframe tbody tr th {\n",
       "        vertical-align: top;\n",
       "    }\n",
       "\n",
       "    .dataframe thead th {\n",
       "        text-align: right;\n",
       "    }\n",
       "</style>\n",
       "<table border=\"1\" class=\"dataframe\">\n",
       "  <thead>\n",
       "    <tr style=\"text-align: right;\">\n",
       "      <th></th>\n",
       "      <th>count</th>\n",
       "      <th>mean</th>\n",
       "      <th>std</th>\n",
       "      <th>min</th>\n",
       "      <th>25%</th>\n",
       "      <th>50%</th>\n",
       "      <th>75%</th>\n",
       "      <th>max</th>\n",
       "    </tr>\n",
       "  </thead>\n",
       "  <tbody>\n",
       "    <tr>\n",
       "      <td>popularity</td>\n",
       "      <td>1079.0</td>\n",
       "      <td>1.282784e+01</td>\n",
       "      <td>8.755833e+00</td>\n",
       "      <td>0.6</td>\n",
       "      <td>7.731000e+00</td>\n",
       "      <td>1.113400e+01</td>\n",
       "      <td>1.622800e+01</td>\n",
       "      <td>8.077300e+01</td>\n",
       "    </tr>\n",
       "    <tr>\n",
       "      <td>vote_average</td>\n",
       "      <td>1079.0</td>\n",
       "      <td>6.211307e+00</td>\n",
       "      <td>9.612926e-01</td>\n",
       "      <td>1.0</td>\n",
       "      <td>5.750000e+00</td>\n",
       "      <td>6.200000e+00</td>\n",
       "      <td>6.800000e+00</td>\n",
       "      <td>1.000000e+01</td>\n",
       "    </tr>\n",
       "    <tr>\n",
       "      <td>vote_count</td>\n",
       "      <td>1079.0</td>\n",
       "      <td>2.173632e+03</td>\n",
       "      <td>3.030426e+03</td>\n",
       "      <td>1.0</td>\n",
       "      <td>2.640000e+02</td>\n",
       "      <td>9.820000e+02</td>\n",
       "      <td>2.863000e+03</td>\n",
       "      <td>2.218600e+04</td>\n",
       "    </tr>\n",
       "    <tr>\n",
       "      <td>production_budget</td>\n",
       "      <td>1079.0</td>\n",
       "      <td>5.016242e+07</td>\n",
       "      <td>5.875217e+07</td>\n",
       "      <td>25000.0</td>\n",
       "      <td>1.000000e+07</td>\n",
       "      <td>2.800000e+07</td>\n",
       "      <td>6.775000e+07</td>\n",
       "      <td>4.106000e+08</td>\n",
       "    </tr>\n",
       "    <tr>\n",
       "      <td>worldwide_gross</td>\n",
       "      <td>1079.0</td>\n",
       "      <td>1.579006e+08</td>\n",
       "      <td>2.537002e+08</td>\n",
       "      <td>0.0</td>\n",
       "      <td>7.782649e+06</td>\n",
       "      <td>5.858641e+07</td>\n",
       "      <td>1.765525e+08</td>\n",
       "      <td>2.048134e+09</td>\n",
       "    </tr>\n",
       "    <tr>\n",
       "      <td>profit</td>\n",
       "      <td>1079.0</td>\n",
       "      <td>1.077382e+08</td>\n",
       "      <td>2.108060e+08</td>\n",
       "      <td>-110450242.0</td>\n",
       "      <td>-1.529154e+06</td>\n",
       "      <td>2.478717e+07</td>\n",
       "      <td>1.182069e+08</td>\n",
       "      <td>1.748134e+09</td>\n",
       "    </tr>\n",
       "  </tbody>\n",
       "</table>\n",
       "</div>"
      ],
      "text/plain": [
       "                    count          mean           std          min           25%           50%           75%           max\n",
       "popularity         1079.0  1.282784e+01  8.755833e+00          0.6  7.731000e+00  1.113400e+01  1.622800e+01  8.077300e+01\n",
       "vote_average       1079.0  6.211307e+00  9.612926e-01          1.0  5.750000e+00  6.200000e+00  6.800000e+00  1.000000e+01\n",
       "vote_count         1079.0  2.173632e+03  3.030426e+03          1.0  2.640000e+02  9.820000e+02  2.863000e+03  2.218600e+04\n",
       "production_budget  1079.0  5.016242e+07  5.875217e+07      25000.0  1.000000e+07  2.800000e+07  6.775000e+07  4.106000e+08\n",
       "worldwide_gross    1079.0  1.579006e+08  2.537002e+08          0.0  7.782649e+06  5.858641e+07  1.765525e+08  2.048134e+09\n",
       "profit             1079.0  1.077382e+08  2.108060e+08 -110450242.0 -1.529154e+06  2.478717e+07  1.182069e+08  1.748134e+09"
      ]
     },
     "execution_count": 7,
     "metadata": {},
     "output_type": "execute_result"
    }
   ],
   "source": [
    "df_f.describe().T"
   ]
  },
  {
   "cell_type": "code",
   "execution_count": 8,
   "metadata": {},
   "outputs": [
    {
     "data": {
      "text/plain": [
       "(1079, 9)"
      ]
     },
     "execution_count": 8,
     "metadata": {},
     "output_type": "execute_result"
    }
   ],
   "source": [
    "df_f.shape"
   ]
  },
  {
   "cell_type": "code",
   "execution_count": 9,
   "metadata": {},
   "outputs": [
    {
     "data": {
      "text/plain": [
       "['popularity',\n",
       " 'vote_average',\n",
       " 'vote_count',\n",
       " 'production_budget',\n",
       " 'worldwide_gross',\n",
       " 'profit',\n",
       " 'genre',\n",
       " 'genre_1',\n",
       " 'genre_2']"
      ]
     },
     "execution_count": 9,
     "metadata": {},
     "output_type": "execute_result"
    }
   ],
   "source": [
    "list(df_f.columns)"
   ]
  },
  {
   "cell_type": "code",
   "execution_count": 10,
   "metadata": {
    "scrolled": true
   },
   "outputs": [
    {
     "data": {
      "text/plain": [
       "popularity           0\n",
       "vote_average         0\n",
       "vote_count           0\n",
       "production_budget    0\n",
       "worldwide_gross      0\n",
       "profit               0\n",
       "genre                0\n",
       "genre_1              0\n",
       "genre_2              0\n",
       "dtype: int64"
      ]
     },
     "execution_count": 10,
     "metadata": {},
     "output_type": "execute_result"
    }
   ],
   "source": [
    "# Check for missing values by column\n",
    "df_f.isna().sum()"
   ]
  },
  {
   "cell_type": "code",
   "execution_count": 11,
   "metadata": {
    "scrolled": true
   },
   "outputs": [],
   "source": [
    "data = df_f.dropna()"
   ]
  },
  {
   "cell_type": "code",
   "execution_count": 12,
   "metadata": {
    "scrolled": true
   },
   "outputs": [
    {
     "data": {
      "text/plain": [
       "popularity           0\n",
       "vote_average         0\n",
       "vote_count           0\n",
       "production_budget    0\n",
       "worldwide_gross      0\n",
       "profit               0\n",
       "genre                0\n",
       "genre_1              0\n",
       "genre_2              0\n",
       "dtype: int64"
      ]
     },
     "execution_count": 12,
     "metadata": {},
     "output_type": "execute_result"
    }
   ],
   "source": [
    "data.isna().sum()"
   ]
  },
  {
   "cell_type": "code",
   "execution_count": 13,
   "metadata": {},
   "outputs": [
    {
     "data": {
      "text/plain": [
       "(1079, 9)"
      ]
     },
     "execution_count": 13,
     "metadata": {},
     "output_type": "execute_result"
    }
   ],
   "source": [
    "data.shape"
   ]
  },
  {
   "cell_type": "code",
   "execution_count": 14,
   "metadata": {
    "scrolled": true
   },
   "outputs": [],
   "source": [
    "df = data"
   ]
  },
  {
   "cell_type": "code",
   "execution_count": 15,
   "metadata": {
    "scrolled": false
   },
   "outputs": [
    {
     "data": {
      "text/html": [
       "<div>\n",
       "<style scoped>\n",
       "    .dataframe tbody tr th:only-of-type {\n",
       "        vertical-align: middle;\n",
       "    }\n",
       "\n",
       "    .dataframe tbody tr th {\n",
       "        vertical-align: top;\n",
       "    }\n",
       "\n",
       "    .dataframe thead th {\n",
       "        text-align: right;\n",
       "    }\n",
       "</style>\n",
       "<table border=\"1\" class=\"dataframe\">\n",
       "  <thead>\n",
       "    <tr style=\"text-align: right;\">\n",
       "      <th></th>\n",
       "      <th>popularity</th>\n",
       "      <th>vote_average</th>\n",
       "      <th>vote_count</th>\n",
       "      <th>production_budget</th>\n",
       "      <th>worldwide_gross</th>\n",
       "      <th>profit</th>\n",
       "      <th>genre</th>\n",
       "      <th>genre_1</th>\n",
       "      <th>genre_2</th>\n",
       "    </tr>\n",
       "  </thead>\n",
       "  <tbody>\n",
       "    <tr>\n",
       "      <td>0</td>\n",
       "      <td>6.099</td>\n",
       "      <td>3.3</td>\n",
       "      <td>102</td>\n",
       "      <td>1500000</td>\n",
       "      <td>0</td>\n",
       "      <td>-1500000</td>\n",
       "      <td>crime</td>\n",
       "      <td>drama</td>\n",
       "      <td>horror</td>\n",
       "    </tr>\n",
       "    <tr>\n",
       "      <td>1</td>\n",
       "      <td>17.892</td>\n",
       "      <td>6.9</td>\n",
       "      <td>4629</td>\n",
       "      <td>5000000</td>\n",
       "      <td>108286422</td>\n",
       "      <td>103286422</td>\n",
       "      <td>drama</td>\n",
       "      <td>horror</td>\n",
       "      <td>mystery</td>\n",
       "    </tr>\n",
       "    <tr>\n",
       "      <td>2</td>\n",
       "      <td>13.183</td>\n",
       "      <td>5.6</td>\n",
       "      <td>1312</td>\n",
       "      <td>35000000</td>\n",
       "      <td>71118378</td>\n",
       "      <td>36118378</td>\n",
       "      <td>action</td>\n",
       "      <td>drama</td>\n",
       "      <td>history</td>\n",
       "    </tr>\n",
       "    <tr>\n",
       "      <td>3</td>\n",
       "      <td>16.493</td>\n",
       "      <td>7.9</td>\n",
       "      <td>6631</td>\n",
       "      <td>20000000</td>\n",
       "      <td>181025343</td>\n",
       "      <td>161025343</td>\n",
       "      <td>biography</td>\n",
       "      <td>drama</td>\n",
       "      <td>history</td>\n",
       "    </tr>\n",
       "    <tr>\n",
       "      <td>4</td>\n",
       "      <td>11.435</td>\n",
       "      <td>7.0</td>\n",
       "      <td>4469</td>\n",
       "      <td>18000000</td>\n",
       "      <td>60217171</td>\n",
       "      <td>42217171</td>\n",
       "      <td>adventure</td>\n",
       "      <td>biography</td>\n",
       "      <td>drama</td>\n",
       "    </tr>\n",
       "  </tbody>\n",
       "</table>\n",
       "</div>"
      ],
      "text/plain": [
       "   popularity  vote_average  vote_count  production_budget  worldwide_gross     profit      genre    genre_1  genre_2\n",
       "0       6.099           3.3         102            1500000                0   -1500000      crime      drama   horror\n",
       "1      17.892           6.9        4629            5000000        108286422  103286422      drama     horror  mystery\n",
       "2      13.183           5.6        1312           35000000         71118378   36118378     action      drama  history\n",
       "3      16.493           7.9        6631           20000000        181025343  161025343  biography      drama  history\n",
       "4      11.435           7.0        4469           18000000         60217171   42217171  adventure  biography    drama"
      ]
     },
     "execution_count": 15,
     "metadata": {},
     "output_type": "execute_result"
    }
   ],
   "source": [
    "df.head()"
   ]
  },
  {
   "cell_type": "markdown",
   "metadata": {},
   "source": [
    "## Step 1 Train/test Split"
   ]
  },
  {
   "cell_type": "markdown",
   "metadata": {},
   "source": [
    "### Target is profit"
   ]
  },
  {
   "cell_type": "code",
   "execution_count": 18,
   "metadata": {},
   "outputs": [],
   "source": [
    "X = data.drop(columns =['profit'])\n",
    "y = data['profit']"
   ]
  },
  {
   "cell_type": "code",
   "execution_count": 19,
   "metadata": {},
   "outputs": [],
   "source": [
    "# split data into test and train\n",
    "X_train, X_test, y_train, y_test = train_test_split(X,y, random_state = 42, test_size = .20)"
   ]
  },
  {
   "cell_type": "code",
   "execution_count": 20,
   "metadata": {},
   "outputs": [
    {
     "data": {
      "text/plain": [
       "((863, 8), (216, 8), (863,), (216,))"
      ]
     },
     "execution_count": 20,
     "metadata": {},
     "output_type": "execute_result"
    }
   ],
   "source": [
    "# get the shapes\n",
    "X_train.shape, X_test.shape, y_train.shape, y_test.shape"
   ]
  },
  {
   "cell_type": "markdown",
   "metadata": {},
   "source": [
    "### Step 2- Exploratory Data Analysis"
   ]
  },
  {
   "cell_type": "markdown",
   "metadata": {},
   "source": [
    "checking missing valuses etc. our data is already clean "
   ]
  },
  {
   "cell_type": "code",
   "execution_count": 21,
   "metadata": {},
   "outputs": [
    {
     "data": {
      "text/plain": [
       "<seaborn.axisgrid.PairGrid at 0x1c1e57e790>"
      ]
     },
     "execution_count": 21,
     "metadata": {},
     "output_type": "execute_result"
    },
    {
     "data": {
      "image/png": "[encoded data removed]",
      "text/plain": [
       "<Figure size 900x900 with 30 Axes>"
      ]
     },
     "metadata": {
      "needs_background": "light"
     },
     "output_type": "display_data"
    }
   ],
   "source": [
    "#create scatterplot matrix\n",
    "sns.pairplot(X_train)"
   ]
  },
  {
   "cell_type": "markdown",
   "metadata": {},
   "source": [
    "### Next let's look at the distribution of our variables"
   ]
  },
  {
   "cell_type": "code",
   "execution_count": 22,
   "metadata": {
    "scrolled": false
   },
   "outputs": [
    {
     "data": {
      "text/plain": [
       "<matplotlib.axes._subplots.AxesSubplot at 0x1c1f567650>"
      ]
     },
     "execution_count": 22,
     "metadata": {},
     "output_type": "execute_result"
    },
    {
     "data": {
      "image/png": "[encoded data removed]",
      "text/plain": [
       "<Figure size 432x288 with 1 Axes>"
      ]
     },
     "metadata": {
      "needs_background": "light"
     },
     "output_type": "display_data"
    }
   ],
   "source": [
    "#histogram of y_train\n",
    "y_train.plot(kind='hist')"
   ]
  },
  {
   "cell_type": "code",
   "execution_count": 23,
   "metadata": {},
   "outputs": [],
   "source": [
    "categorical_variables = ['genre','genre_1','genre_2']"
   ]
  },
  {
   "cell_type": "code",
   "execution_count": 24,
   "metadata": {},
   "outputs": [],
   "source": [
    "remaining_list = ['popularity',\n",
    " 'vote_average',\n",
    " 'vote_count',\n",
    " 'production_budget',\n",
    " 'worldwide_gross',\n",
    " 'profit']"
   ]
  },
  {
   "cell_type": "code",
   "execution_count": 25,
   "metadata": {},
   "outputs": [],
   "source": [
    "from sklearn.preprocessing import OneHotEncoder\n",
    "\n",
    "from sklearn.compose import ColumnTransformer\n",
    "\n",
    "from sklearn.preprocessing import StandardScaler"
   ]
  },
  {
   "cell_type": "code",
   "execution_count": 26,
   "metadata": {},
   "outputs": [],
   "source": [
    "ss = StandardScaler()"
   ]
  },
  {
   "cell_type": "code",
   "execution_count": 27,
   "metadata": {},
   "outputs": [],
   "source": [
    "\n",
    "## create an encoder object. This will help us to convert\n",
    "## categorical variables to new columns\n",
    "encoder = OneHotEncoder(handle_unknown= 'error',\n",
    "                        drop='first',\n",
    "                        categories= 'auto')\n",
    "\n",
    "## Create an columntransformer object.\n",
    "## This will help us to merge transformed columns\n",
    "## with the rest of the dataset.\n",
    "\n",
    "ct = ColumnTransformer(transformers =[('ohe', encoder, ['genre','genre_1','genre_2'])],\n",
    "                                    remainder= ss)\n",
    "ct.fit_transform(X_train)\n",
    "X = ct.transform(X_train)"
   ]
  },
  {
   "cell_type": "code",
   "execution_count": 28,
   "metadata": {},
   "outputs": [
    {
     "data": {
      "text/plain": [
       "(863, 52)"
      ]
     },
     "execution_count": 28,
     "metadata": {},
     "output_type": "execute_result"
    }
   ],
   "source": [
    "X.shape"
   ]
  },
  {
   "cell_type": "code",
   "execution_count": 29,
   "metadata": {
    "scrolled": true
   },
   "outputs": [
    {
     "data": {
      "text/plain": [
       "<216x52 sparse matrix of type '<class 'numpy.float64'>'\n",
       "\twith 1597 stored elements in Compressed Sparse Row format>"
      ]
     },
     "execution_count": 29,
     "metadata": {},
     "output_type": "execute_result"
    }
   ],
   "source": [
    "ct.transform(X_test)"
   ]
  },
  {
   "cell_type": "code",
   "execution_count": 30,
   "metadata": {},
   "outputs": [
    {
     "data": {
      "text/plain": [
       "(216, 52)"
      ]
     },
     "execution_count": 30,
     "metadata": {},
     "output_type": "execute_result"
    }
   ],
   "source": [
    "ct.transform(X_test).shape"
   ]
  },
  {
   "cell_type": "code",
   "execution_count": 31,
   "metadata": {},
   "outputs": [
    {
     "data": {
      "text/plain": [
       "(216, 52)"
      ]
     },
     "execution_count": 31,
     "metadata": {},
     "output_type": "execute_result"
    }
   ],
   "source": [
    "Xtest  = ct.transform(X_test)\n",
    "Xtest.shape"
   ]
  },
  {
   "cell_type": "markdown",
   "metadata": {},
   "source": [
    "### Outlier Removal"
   ]
  },
  {
   "cell_type": "code",
   "execution_count": null,
   "metadata": {},
   "outputs": [],
   "source": []
  },
  {
   "cell_type": "markdown",
   "metadata": {},
   "source": [
    "## Step 4 - Messy Model"
   ]
  },
  {
   "cell_type": "markdown",
   "metadata": {},
   "source": [
    "### First let's use statsmodels"
   ]
  },
  {
   "cell_type": "markdown",
   "metadata": {},
   "source": [
    "## Now let's use sklearn"
   ]
  },
  {
   "cell_type": "code",
   "execution_count": 32,
   "metadata": {},
   "outputs": [],
   "source": [
    "#initialize a linear regression model in sklearn\n",
    "linreg = LinearRegression()"
   ]
  },
  {
   "cell_type": "code",
   "execution_count": 33,
   "metadata": {},
   "outputs": [
    {
     "data": {
      "text/plain": [
       "0.999999999999995"
      ]
     },
     "execution_count": 33,
     "metadata": {},
     "output_type": "execute_result"
    }
   ],
   "source": [
    "#fit linear model to training data\n",
    "linreg.fit(X, y_train)\n",
    "linreg.score(X, y_train)"
   ]
  },
  {
   "cell_type": "code",
   "execution_count": 34,
   "metadata": {},
   "outputs": [
    {
     "data": {
      "text/plain": [
       "array([ 3.63760986e+00,  4.44492087e+00, -6.58477788e+00, -2.98293018e+00,\n",
       "       -1.07653999e+01, -5.51517866e+00, -3.17079141e+01, -7.35443233e+01,\n",
       "       -8.03671418e+01, -1.91319839e+01,  5.92648166e+01, -9.82603042e+01,\n",
       "       -6.85720414e+00, -5.69428002e+00,  4.70253788e+00,  6.15934103e+00,\n",
       "        1.45712247e+01,  1.40582867e+01,  1.78339219e+01,  2.38639581e+01,\n",
       "        6.47713242e+01,  3.06700882e+01,  9.90883317e+01,  2.57210915e+01,\n",
       "        3.31711614e+01,  1.34068496e+01, -1.88335463e+02,  9.61266939e+01,\n",
       "       -5.94610874e+01,  2.00878226e+00, -4.79206315e+00,  7.31693172e+00,\n",
       "        1.12011407e+00, -5.03613063e+00,  3.74392276e-01, -1.18025757e+01,\n",
       "       -1.20636046e+01, -3.16300951e+00, -6.75559483e+00, -6.30074475e+00,\n",
       "        6.56046164e+01, -1.33144969e+01, -5.42866540e+00, -9.94015375e+00,\n",
       "       -1.48120508e+01, -3.12658226e+01,  4.40384082e+01, -6.86739060e-01,\n",
       "       -1.23511131e+00,  1.60889704e+00, -5.79668403e+07,  2.64014267e+08])"
      ]
     },
     "execution_count": 34,
     "metadata": {},
     "output_type": "execute_result"
    }
   ],
   "source": [
    "linreg.coef_"
   ]
  },
  {
   "cell_type": "code",
   "execution_count": 35,
   "metadata": {},
   "outputs": [
    {
     "data": {
      "text/plain": [
       "(863, 52)"
      ]
     },
     "execution_count": 35,
     "metadata": {},
     "output_type": "execute_result"
    }
   ],
   "source": [
    "#get r squared value from sklearn\n",
    "X.shape"
   ]
  },
  {
   "cell_type": "markdown",
   "metadata": {},
   "source": [
    "## Step 5 - Model Evaluation"
   ]
  },
  {
   "cell_type": "code",
   "execution_count": 36,
   "metadata": {},
   "outputs": [
    {
     "data": {
      "text/plain": [
       "(863, 52)"
      ]
     },
     "execution_count": 36,
     "metadata": {},
     "output_type": "execute_result"
    }
   ],
   "source": [
    "#get r squared value from sklearn\n",
    "X.shape"
   ]
  },
  {
   "cell_type": "markdown",
   "metadata": {},
   "source": [
    "### Now let's look at predictions of relative performance to compare to actual relative performance"
   ]
  },
  {
   "cell_type": "code",
   "execution_count": 37,
   "metadata": {},
   "outputs": [],
   "source": [
    "linreg_results_df = pd.DataFrame(linreg.predict(X), y_train).reset_index()"
   ]
  },
  {
   "cell_type": "code",
   "execution_count": 38,
   "metadata": {},
   "outputs": [],
   "source": [
    "linreg_results_df.columns = ['Actual_profit', 'Predicted_Profit']"
   ]
  },
  {
   "cell_type": "code",
   "execution_count": 39,
   "metadata": {},
   "outputs": [
    {
     "data": {
      "text/html": [
       "<div>\n",
       "<style scoped>\n",
       "    .dataframe tbody tr th:only-of-type {\n",
       "        vertical-align: middle;\n",
       "    }\n",
       "\n",
       "    .dataframe tbody tr th {\n",
       "        vertical-align: top;\n",
       "    }\n",
       "\n",
       "    .dataframe thead th {\n",
       "        text-align: right;\n",
       "    }\n",
       "</style>\n",
       "<table border=\"1\" class=\"dataframe\">\n",
       "  <thead>\n",
       "    <tr style=\"text-align: right;\">\n",
       "      <th></th>\n",
       "      <th>Actual_profit</th>\n",
       "      <th>Predicted_Profit</th>\n",
       "    </tr>\n",
       "  </thead>\n",
       "  <tbody>\n",
       "    <tr>\n",
       "      <td>0</td>\n",
       "      <td>-13235753</td>\n",
       "      <td>-1.323576e+07</td>\n",
       "    </tr>\n",
       "    <tr>\n",
       "      <td>1</td>\n",
       "      <td>57507355</td>\n",
       "      <td>5.750735e+07</td>\n",
       "    </tr>\n",
       "    <tr>\n",
       "      <td>2</td>\n",
       "      <td>57917283</td>\n",
       "      <td>5.791728e+07</td>\n",
       "    </tr>\n",
       "    <tr>\n",
       "      <td>3</td>\n",
       "      <td>230660018</td>\n",
       "      <td>2.306600e+08</td>\n",
       "    </tr>\n",
       "    <tr>\n",
       "      <td>4</td>\n",
       "      <td>297136477</td>\n",
       "      <td>2.971365e+08</td>\n",
       "    </tr>\n",
       "  </tbody>\n",
       "</table>\n",
       "</div>"
      ],
      "text/plain": [
       "   Actual_profit  Predicted_Profit\n",
       "0      -13235753     -1.323576e+07\n",
       "1       57507355      5.750735e+07\n",
       "2       57917283      5.791728e+07\n",
       "3      230660018      2.306600e+08\n",
       "4      297136477      2.971365e+08"
      ]
     },
     "execution_count": 39,
     "metadata": {},
     "output_type": "execute_result"
    }
   ],
   "source": [
    "linreg_results_df.head()"
   ]
  },
  {
   "cell_type": "markdown",
   "metadata": {},
   "source": [
    "## Let's use regularization to see if that helps our model fit"
   ]
  },
  {
   "cell_type": "code",
   "execution_count": 40,
   "metadata": {},
   "outputs": [],
   "source": [
    "#importing Lasso and Ridge models from sklearn\n",
    "from sklearn.linear_model import Lasso, Ridge"
   ]
  },
  {
   "cell_type": "markdown",
   "metadata": {},
   "source": [
    "## Lasso Regularizer"
   ]
  },
  {
   "cell_type": "code",
   "execution_count": 41,
   "metadata": {},
   "outputs": [],
   "source": [
    "#conduct lasso regression on training data\n",
    "lasso = Lasso()"
   ]
  },
  {
   "cell_type": "code",
   "execution_count": 42,
   "metadata": {},
   "outputs": [
    {
     "data": {
      "text/plain": [
       "0.9999998090065707"
      ]
     },
     "execution_count": 42,
     "metadata": {},
     "output_type": "execute_result"
    }
   ],
   "source": [
    "#Evaluation of lasso on training data\n",
    "lasso.fit(X, y_train)\n",
    "lasso.score(X, y_train)"
   ]
  },
  {
   "cell_type": "code",
   "execution_count": 43,
   "metadata": {},
   "outputs": [
    {
     "data": {
      "text/plain": [
       "array([-1.93398470e+03,  1.62505604e+04,  2.74454800e+04,  2.64023518e+04,\n",
       "        6.80940513e+03,  4.51618563e+04,  2.72955483e+04,  6.78088174e+04,\n",
       "        3.92601559e+04,  9.68426342e+03,  4.41045848e+04,  3.11340160e+04,\n",
       "        1.35323962e+05,  1.24101814e+05,  1.06266986e+05,  9.08675562e+04,\n",
       "        9.76324027e+04,  9.69610348e+04,  8.00646702e+04,  9.59014930e+04,\n",
       "        9.09455173e+04,  6.07150443e+04,  1.11004519e+05,  6.91443355e+04,\n",
       "        6.19180850e+04,  6.05628181e+04,  3.50324978e+04,  9.36094598e+04,\n",
       "       -7.70261698e+05, -8.67756909e+05, -8.61065876e+05, -8.56981672e+05,\n",
       "       -8.44779236e+05, -8.53935460e+05, -8.32375397e+05, -8.60291032e+05,\n",
       "       -8.66247057e+05, -8.64834991e+05, -8.61061049e+05, -8.51778600e+05,\n",
       "       -8.83394731e+05, -8.58883035e+05, -8.13506935e+05, -8.48319371e+05,\n",
       "       -8.33416525e+05, -8.46689255e+05, -7.84709122e+05,  6.17366502e+03,\n",
       "       -2.37470240e+04,  2.58298309e+04, -5.79613569e+07,  2.63994240e+08])"
      ]
     },
     "execution_count": 43,
     "metadata": {},
     "output_type": "execute_result"
    }
   ],
   "source": [
    "#examine coefficients from lasso\n",
    "lasso.coef_"
   ]
  },
  {
   "cell_type": "markdown",
   "metadata": {},
   "source": [
    "## Ridge Regularizer"
   ]
  },
  {
   "cell_type": "code",
   "execution_count": 44,
   "metadata": {},
   "outputs": [],
   "source": [
    "#conduct ridge regression on training data\n",
    "ridge = Ridge()"
   ]
  },
  {
   "cell_type": "code",
   "execution_count": 45,
   "metadata": {},
   "outputs": [
    {
     "data": {
      "text/plain": [
       "0.9999802947845626"
      ]
     },
     "execution_count": 45,
     "metadata": {},
     "output_type": "execute_result"
    }
   ],
   "source": [
    "#Evaluation of ridge on training data\n",
    "ridge.fit(X, y_train)\n",
    "ridge.score(X, y_train)"
   ]
  },
  {
   "cell_type": "code",
   "execution_count": 46,
   "metadata": {},
   "outputs": [
    {
     "data": {
      "text/plain": [
       "array([-4.71690018e+05, -4.18423718e+05,  3.85079685e+05,  3.48665035e+05,\n",
       "        7.06763035e+05,  8.56925729e+05,  6.52122437e+05,  6.66832208e+05,\n",
       "       -1.29451685e+06,  7.24977993e+05, -1.96043961e+05, -1.39777551e+06,\n",
       "        3.42274604e+06,  3.15987718e+06,  1.05398970e+06,  8.84178258e+05,\n",
       "        1.56844804e+06,  5.93619591e+05, -4.31511331e+05, -2.26589350e+05,\n",
       "        1.66314836e+06,  1.09253417e+06, -2.90288886e+05,  3.60936069e+05,\n",
       "        7.55489122e+05,  9.89835785e+05,  4.34845823e+05, -2.92214911e+06,\n",
       "        7.72653804e+05, -2.46482575e+06, -9.32487430e+05, -2.23885134e+05,\n",
       "       -1.05536328e+06, -1.15138285e+06, -3.74978275e+05, -1.01974769e+06,\n",
       "       -1.70830184e+05,  6.95527917e+04,  3.29895655e+05, -1.40070568e+06,\n",
       "        5.71585968e+05, -5.07149801e+05, -7.84586770e+05, -3.92176421e+05,\n",
       "       -6.95310230e+05, -1.52790566e+06,  6.50264767e+05,  5.03058026e+04,\n",
       "       -4.24814480e+04,  5.75369477e+05, -5.68481819e+07,  2.62618880e+08])"
      ]
     },
     "execution_count": 46,
     "metadata": {},
     "output_type": "execute_result"
    }
   ],
   "source": [
    "#examine coefficients from ridge\n",
    "ridge.coef_"
   ]
  },
  {
   "cell_type": "markdown",
   "metadata": {},
   "source": [
    "## Step 6 - Best Model Evaluation"
   ]
  },
  {
   "cell_type": "code",
   "execution_count": 48,
   "metadata": {},
   "outputs": [
    {
     "data": {
      "text/plain": [
       "0.9987718179772868"
      ]
     },
     "execution_count": 48,
     "metadata": {},
     "output_type": "execute_result"
    }
   ],
   "source": [
    "#Evaluation of ridge on test data\n",
    "ridge.fit(Xtest, y_test)\n",
    "ridge.score(Xtest, y_test)"
   ]
  },
  {
   "cell_type": "markdown",
   "metadata": {},
   "source": [
    "## Step 7 - Model Interpretation"
   ]
  },
  {
   "cell_type": "markdown",
   "metadata": {},
   "source": [
    "What take-ways do we have? Conclusions about our initial question? Who would care? Why do they care?"
   ]
  },
  {
   "cell_type": "code",
   "execution_count": null,
   "metadata": {},
   "outputs": [],
   "source": []
  }
 ],
 "metadata": {
  "kernelspec": {
   "display_name": "Python 3",
   "language": "python",
   "name": "python3"
  },
  "language_info": {
   "codemirror_mode": {
    "name": "ipython",
    "version": 3
   },
   "file_extension": ".py",
   "mimetype": "text/x-python",
   "name": "python",
   "nbconvert_exporter": "python",
   "pygments_lexer": "ipython3",
   "version": "3.7.4"
  }
 },
 "nbformat": 4,
 "nbformat_minor": 2
}
